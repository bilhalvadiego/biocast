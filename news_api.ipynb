{
 "cells": [
  {
   "cell_type": "markdown",
   "metadata": {},
   "source": [
    "# DOCS:\n",
    "\n",
    "[DOCS](https://rapidapi.com/rphrp1985/api/newsnow)"
   ]
  },
  {
   "cell_type": "code",
   "execution_count": 1,
   "metadata": {},
   "outputs": [],
   "source": [
    "import os\n",
    "\n",
    "def excluir_arquivos_em_pasta(pasta):\n",
    "    # Verifica se a pasta existe\n",
    "    if os.path.exists(pasta):\n",
    "        # Lista os arquivos na pasta\n",
    "        arquivos = os.listdir(pasta)\n",
    "        \n",
    "        # Itera sobre os arquivos e os exclui\n",
    "        for arquivo in arquivos:\n",
    "            caminho_arquivo = os.path.join(pasta, arquivo)\n",
    "            if os.path.isfile(caminho_arquivo):\n",
    "                os.remove(caminho_arquivo)\n",
    "            else:\n",
    "                print(f\"{caminho_arquivo} não é um arquivo e não será excluído.\")\n",
    "        \n",
    "        print(\"Arquivos excluídos com sucesso.\")\n",
    "    else:\n",
    "        print(f\"A pasta {pasta} não existe.\")"
   ]
  },
  {
   "cell_type": "code",
   "execution_count": 19,
   "metadata": {},
   "outputs": [
    {
     "name": "stdout",
     "output_type": "stream",
     "text": [
      "Arquivos excluídos com sucesso.\n"
     ]
    }
   ],
   "source": [
    "# Substitua 'caminho_para_pasta' pelo caminho da pasta que você deseja verificar e limpar.\n",
    "excluir_arquivos_em_pasta('temp_news')\n",
    "\n",
    "from datetime import datetime, timedelta\n",
    "import requests \n",
    "\n",
    "def getNews(url: str, query: str, page: int = 1, from_date: str = None, to_date: str = None):\n",
    "    # Verifica se from_date e to_date não foram fornecidos e define-os como ontem\n",
    "    if from_date is None: \n",
    "        yesterday = datetime.now() - timedelta(days=1)\n",
    "        from_date = yesterday.strftime('%d/%m/%Y')\n",
    "    \n",
    "    if to_date is None: \n",
    "        yesterday = datetime.now() - timedelta(days=1)\n",
    "        to_date = yesterday.strftime('%d/%m/%Y')\n",
    "    \n",
    "    # Converte as datas de string (dd/MM/yyyy) para objetos datetime\n",
    "    from_date = datetime.strptime(from_date, '%d/%m/%Y')\n",
    "    to_date = datetime.strptime(to_date, '%d/%m/%Y')\n",
    "\n",
    "    # Formate as datas para o formato esperado\n",
    "    from_date_str = from_date.strftime('%d/%m/%Y')\n",
    "    to_date_str = to_date.strftime('%d/%m/%Y')\n",
    "\n",
    "    payload = {\n",
    "        \"query\": query,\n",
    "        \"page\": page,\n",
    "        \"time_bounded\": True,\n",
    "        \"from_date\": from_date_str,\n",
    "        \"to_date\": to_date_str,\n",
    "        \"location\": \"\",\n",
    "        \"category\": \"\",\n",
    "        \"source\": \"\"\n",
    "    }\n",
    "    headers = {\n",
    "        \"content-type\": \"application/json\",\n",
    "        \"X-RapidAPI-Key\": os.getenv(\"RAPIDAPI\"),\n",
    "        \"X-RapidAPI-Host\": \"newsnow.p.rapidapi.com\"\n",
    "    }\n",
    "\n",
    "    response = requests.post(url, json=payload, headers=headers)\n",
    "    bSuccess = True\n",
    "    try:\n",
    "        # response = response.json()['news']\n",
    "        response = response\n",
    "    except:\n",
    "        bSuccess = False\n",
    "        response = response\n",
    "    finally:\n",
    "        return bSuccess, response"
   ]
  },
  {
   "cell_type": "code",
   "execution_count": 20,
   "metadata": {},
   "outputs": [
    {
     "name": "stdout",
     "output_type": "stream",
     "text": [
      "<Response [200]>\n"
     ]
    }
   ],
   "source": [
    "bSuccess, _ = getNews(url = url,query = query, page = 1, from_date='01/10/2023', to_date = '21/10/2023')\n",
    "\n",
    "print(json.dump(_.json()))"
   ]
  },
  {
   "cell_type": "code",
   "execution_count": 24,
   "metadata": {},
   "outputs": [
    {
     "name": "stdout",
     "output_type": "stream",
     "text": [
      "{\"page\": 1, \"news\": [{\"title\": \"Tomorrow's fossils: Endangered animal species in 1972\", \"body\": \"Tomorrow's fossils: Experimental embryology and endangered animal species in 1972 ... Francoeur appeared as the feature article in a 1972 magazine issue that took...\", \"date\": \"Jun 22, 2023\", \"url\": \"https://thebulletin.org/2023/06/tomorrows-fossils-experimental-embryology-and-endangered-animal-species-in-1972/\", \"source\": \"Bulletin of the Atomic Scientists\", \"image\": \"https://audiospace-1-u9912847.deta.app/getnewspic?id=xS1UyDwq8oPNNJrvzgCl1697943620.8857436\"}, {\"title\": \"Evaluation of an automated dish preparation system for IVF ...\", \"body\": \"... animal embryology experience. They were engaged in the dish preparation and embryo cultivation during the whole process. Working mechanism of automated...\", \"date\": \"3 weeks ago\", \"url\": \"https://www.nature.com/articles/s41598-023-43665-y\", \"source\": \"Nature\", \"image\": \"https://audiospace-1-u9912847.deta.app/getnewspic?id=g8Om4LAETb303f9rZWil1697943620.9275246\"}, {\"title\": \"New Study Captures The Very Moment a Heart Starts Beating ...\", \"body\": \"New Study Captures The Very Moment a Heart Starts Beating in an Animal Embryo. Health28 September 2023. By Clare Watson. Fluorescent microscopy image of...\", \"date\": \"3 weeks ago\", \"url\": \"https://www.sciencealert.com/new-study-captures-the-very-moment-a-heart-starts-beating-in-an-animal-embryo\", \"source\": \"ScienceAlert\", \"image\": \"https://audiospace-1-u9912847.deta.app/getnewspic?id=BND9XPpok2UhJY4oX0i81697943620.9673762\"}, {\"title\": \"First UK children born using three-person IVF: what scientists ...\", \"body\": \"The Human Fertilisation and Embryology Authority (HFEA), the UK fertility ... Animal and cell studies have found that in some cases the carried-over...\", \"date\": \"May 10, 2023\", \"url\": \"https://www.nature.com/articles/d41586-023-01585-x\", \"source\": \"Nature\", \"image\": \"https://audiospace-1-u9912847.deta.app/getnewspic?id=R9vMPHF0EG1SZEQ3wQAs1697943621.007832\"}, {\"title\": \"What is an embryo? Scientists say definition needs to change\", \"body\": \"... animal models, which are not always reliable guides to human development. Last year, researchers reported mouse embryo models that could develop to a stage...\", \"date\": \"Aug 18, 2023\", \"url\": \"https://www.nature.com/articles/d41586-023-02641-2\", \"source\": \"Nature\", \"image\": \"https://audiospace-1-u9912847.deta.app/getnewspic?id=fNRycEGg5zc5Ay4iuy9o1697943621.0611885\"}, {\"title\": \"Using topology, Brown researchers advance understanding of ...\", \"body\": \"For healthy tissue to form, cells in the embryo have to organize themselves in ... For example, in an animal embryo, the outer layer of cells goes on to form...\", \"date\": \"1 month ago\", \"url\": \"https://www.brown.edu/news/2023-09-14/tissue-architecture\", \"source\": \"Brown University\", \"image\": \"https://audiospace-1-u9912847.deta.app/getnewspic?id=mAa1GWEQQ8zZiU6Sf3Av1697943621.101439\"}, {\"title\": \"New Definition of Embryo, Embryo Models Proposed\", \"body\": \"... embryo or embryo model was formed. What is most needed is ... Transferring human embryo models into a human or animal uterus is prohibited throughout the world.\", \"date\": \"1 month ago\", \"url\": \"https://www.genengnews.com/topics/translational-medicine/new-definition-of-embryo-embryo-models-proposed/\", \"source\": \"Genetic Engineering and Biotechnology News\", \"image\": \"https://audiospace-1-u9912847.deta.app/getnewspic?id=sN6mToWlhjtyql6rvTWl1697943621.1782594\"}, {\"title\": \"Should we rethink our legal definition of a human embryo?\", \"body\": \"... embryo model in the lab. Another would see whether similar animal embryo models could develop into live animals when implanted into hosts. These tests would...\", \"date\": \"1 month ago\", \"url\": \"https://www.livescience.com/health/fertility-pregnancy-birth/should-we-rethink-our-legal-definition-of-a-human-embryo\", \"source\": \"Live Science\", \"image\": \"https://audiospace-1-u9912847.deta.app/getnewspic?id=zsYilW45nooIVxl2gAd61697943621.2546375\"}, {\"title\": \"Pigs with human brain cells and biological chips: How lab-grown hybrid lifeforms bamboozle scientific eth\", \"body\": \"... animal, embryo or model, human person or mere human tissue. This approach would be a mistake. The confusion sparked by chimeras, embryo models, and in vitro...\", \"date\": \"1 month ago\", \"url\": \"https://m.timesofindia.com/home/science/pigs-with-human-brain-cells-and-biological-chips-how-lab-grown-hybrid-lifeforms-bamboozle-scientific-ethics/articleshow/103752812.cms\", \"source\": \"The Times of India\", \"image\": \"https://audiospace-1-u9912847.deta.app/getnewspic?id=4ulZvS4EP5bEcVUACv8N1697943621.2937975\"}, {\"title\": \"Chimera research opens new doors to understanding and ...\", \"body\": \"... embryo. Human pluripotent stem cells are thus treated as unfit cells in a growing animal embryo and are targeted for elimination,\\\" wrote Wu. By...\", \"date\": \"Mar 23, 2023\", \"url\": \"https://www.drugdiscoverynews.com/chimera-research-opens-new-doors-to-understanding-and-treating-disease-15644\", \"source\": \"Drug Discovery News\", \"image\": \"https://audiospace-1-u9912847.deta.app/getnewspic?id=GlJZGJfKaiX7wAuFVqRk1697943615.9673746\"}, {\"title\": \"Donald Brown: Pioneer of embryo development and advocate ...\", \"body\": \"... animal cells. He then obtained a fellowship to spend a year in Paris with ... The embryologist James Ebert, Director of the Carnegie Institution of Washington's...\", \"date\": \"Jul 19, 2023\", \"url\": \"https://www.pnas.org/doi/10.1073/pnas.2310224120\", \"source\": \"PNAS\", \"image\": \"https://audiospace-1-u9912847.deta.app/getnewspic?id=NomVVwRWuDlz0eXpUwSy1697943616.0100203\"}, {\"title\": \"Animal Genetics Market Size to Hit $8.21 Billion, Globally, by ...\", \"body\": \"Rising Adoption of Progressive Genetic Practices Such as Artificial Insemination (AI) and Embryo Transfer to Drive Global Animal Genetics Market Growth during...\", \"date\": \"Mar 8, 2023\", \"url\": \"https://www.globenewswire.com/en/news-release/2023/03/08/2623170/0/en/Animal-Genetics-Market-Size-to-Hit-8-21-Billion-Globally-by-2028-Lead-by-Porcine-Segment-with-7-CAGR-during-2022-2028-The-Insight-Partners.html\", \"source\": \"GlobeNewswire\", \"image\": \"https://audiospace-1-u9912847.deta.app/getnewspic?id=OjSaEcwslsVWijMtRuAo1697943616.0540986\"}, {\"title\": \"The first human organ created inside an animal opens the door to manufacturing \\u2018spare parts\\u2019 for people\", \"body\": \"In an experiment that raises bioethical issues, researchers in China have generated a blueprint of a humanized kidney in a pig embryo. Embri\\u00f3n porcino A 28-day-...\", \"date\": \"1 month ago\", \"url\": \"https://english.elpais.com/science-tech/2023-09-07/the-first-human-organ-created-inside-an-animal-opens-the-door-to-manufacturing-spare-parts-for-people.html\", \"source\": \"EL PA\\u00cdS English\", \"image\": \"https://audiospace-1-u9912847.deta.app/getnewspic?id=PEHo1UK0UzrTScKCBz4x1697943616.1036437\"}, {\"title\": \"Scientists Working To Resurrect Dinosaurs, Extinct Animals ...\", \"body\": \"Scientists will use gene editing to produce a woolly mammoth embryo. A healthy elephant surrogate will then be injected with an embryo hybrid of an Asian and a...\", \"date\": \"Feb 10, 2023\", \"url\": \"https://www.i24news.tv/en/news/international/technology-science/1676021879-scientists-working-to-resurrect-dinosaurs-extinct-animals\", \"source\": \"I24news\", \"image\": \"https://audiospace-1-u9912847.deta.app/getnewspic?id=Z81lrjep4U4Y6Io6tAPF1697943616.1693778\"}, {\"title\": \"How Dolly the sheep's legacy lives on: CRISPR cattle and ...\", \"body\": \"... animal to be cloned. The modified egg cell gives rise to an embryo, which is implanted in the womb of a surrogate animal. A sheep leaning over a fence in a...\", \"date\": \"4 weeks ago\", \"url\": \"https://www.nature.com/articles/d41586-023-02921-x\", \"source\": \"Nature\", \"image\": \"https://audiospace-1-u9912847.deta.app/getnewspic?id=UPgnnA4t0OmPtzJc6Nvg1697943616.2235699\"}, {\"title\": \"Extended embryo retention and viviparity in the first amniotes\", \"body\": \"The high degree of ossification of the skeleton indicates that the unhatched embryo was in a late developmental stage. Ontogenetically, the animal was...\", \"date\": \"Jun 12, 2023\", \"url\": \"https://www.nature.com/articles/s41559-023-02074-0\", \"source\": \"Nature\", \"image\": \"https://audiospace-1-u9912847.deta.app/getnewspic?id=0Vbt0KUP8dz143dly4AS1697943616.3001862\"}, {\"title\": \"Heaviest animal ever? Scientists discover massive ancient ...\", \"body\": \"But the new discovery indicates that cetaceans reached their peak body mass roughly 30 million years earlier than previously thought, the study said. Embryo...\", \"date\": \"Aug 3, 2023\", \"url\": \"https://news.abs-cbn.com/spotlight/08/03/23/heaviest-animal-ever-scientists-discover-massive-ancient-whale\", \"source\": \"ABS-CBN News\", \"image\": \"https://audiospace-1-u9912847.deta.app/getnewspic?id=Kh2RtG9RHSx00mkR5IYV1697943616.343107\"}, {\"title\": \"Scientists discover secret of virgin birth, and switch on the ...\", \"body\": \"\\u201cWe're the first to show that you can engineer virgin births to happen in an animal \\u2013 it was very exciting to see a virgin fly produce an embryo able to...\", \"date\": \"Jul 28, 2023\", \"url\": \"https://www.eurekalert.org/news-releases/996623\", \"source\": \"EurekAlert!\", \"image\": \"https://audiospace-1-u9912847.deta.app/getnewspic?id=IMixFyF5LTk980jB3IFR1697943616.400586\"}, {\"title\": \"A \\u2018De-extinction\\u2019 Company Wants to Bring Back the Dodo\", \"body\": \"... embryology, protein engineering and animal husbandry, among other focuses. One of the biggest challenges in the reconstruction of the dodo is a problem for...\", \"date\": \"Jan 31, 2023\", \"url\": \"https://www.scientificamerican.com/article/tech-company-invests-150m-to-bring-back-the-dodo/\", \"source\": \"Scientific American\", \"image\": \"https://audiospace-1-u9912847.deta.app/getnewspic?id=P0Aj66VIB1Vu5sE4G7Th1697943622.3504088\"}, {\"title\": \"Developing human embryos imaged at highest-ever resolution\", \"body\": \"Related Articles. Human embryo science: can the world's regulators keep pace? From egg to animal: retracing an embryo's first steps.\", \"date\": \"Jul 6, 2023\", \"url\": \"https://www.nature.com/articles/d41586-023-02222-3\", \"source\": \"Nature\", \"image\": \"https://audiospace-1-u9912847.deta.app/getnewspic?id=VppSgBwtwo6mOccgKWfe1697943622.4094296\"}, {\"title\": \"New Tool Evaluates Embryo Health | Bovine Veterinarian\", \"body\": \"New animal health company, EmGenisys, has created what it says is the first non-invasive and objective method to evaluate bovine embryo health to improve...\", \"date\": \"Jul 17, 2023\", \"url\": \"https://www.bovinevetonline.com/news/industry/new-tool-evaluates-embryo-health\", \"source\": \"Bovine Veterinarian -\", \"image\": \"https://audiospace-1-u9912847.deta.app/getnewspic?id=5Q2c0GhxwIP19PE7kuTN1697943622.4806826\"}, {\"title\": \"EmGenisys, a company developing solutions to evaluate ...\", \"body\": \"EmGenisys is an animal ag tech company developing software solutions to evaluate bovine embryo health to improve pregnancy outcomes of conventional embryo...\", \"date\": \"Jan 13, 2023\", \"url\": \"https://hoards.com/article-33117-emgenisys-a-company-developing-solutions-to-evaluate-cattle-embryo-health-named-runner-up-in-ag-innovation-challenge.html\", \"source\": \"Hoard's Dairyman\", \"image\": \"https://audiospace-1-u9912847.deta.app/getnewspic?id=P9M1sqnSpfImPLqEGZbP1697943622.5280619\"}, {\"title\": \"Trying to make assisted fertilization work for pigs\", \"body\": \"Negative for the animals. \\u201cThe Animal Protection Alliance is not convinced that embryo transfer is an improvement in animal welfare for the pig overall,\\u201d...\", \"date\": \"Jan 30, 2023\", \"url\": \"https://sciencenorway.no/agriculture-animal-welfare-genetics/trying-to-make-assisted-fertilization-work-for-pigs/2147246\", \"source\": \"ScienceNorway\", \"image\": \"https://audiospace-1-u9912847.deta.app/getnewspic?id=KLLwzXph45Ojv0dELZTi1697943622.6137385\"}, {\"title\": \"Animal Research News: January 2023\", \"body\": \"The scientists at EPFL have tested the platform's capabilities by using it to study body axis elongation in the zebrafish embryo. \\u201cOur lab focuses on how the...\", \"date\": \"Feb 2, 2023\", \"url\": \"https://www.understandinganimalresearch.org.uk/news/animal-research-news-january-2023\", \"source\": \"Understanding Animal Research\", \"image\": \"https://audiospace-1-u9912847.deta.app/getnewspic?id=t7PqM29Fv2i6vYRctRhC1697943622.703925\"}, {\"title\": \"UTSW researchers generate cattle blastoids in lab to aid farm ...\", \"body\": \"... embryo formation in the lab that could lead to the development of new ... UTSW researchers generate cattle blastoids in lab to aid farm animal reproduction.\", \"date\": \"May 4, 2023\", \"url\": \"https://www.utsouthwestern.edu/newsroom/articles/year-2023/may-cattle-blastoids.html\", \"source\": \"UT Southwestern Medical Center\", \"image\": \"https://audiospace-1-u9912847.deta.app/getnewspic?id=EAzrtMOLQ2dvmUbTMU5M1697943622.7498496\"}, {\"title\": \"\\u2018Embryo Models\\u2019 Challenge Legal, Ethical and Biological ...\", \"body\": \"... embryo capable of developing all the way to full-term birth as a healthy animal. But the support provided by TSCs and XEN cells is essential \\u2014 embryonic...\", \"date\": \"Jun 13, 2023\", \"url\": \"https://www.quantamagazine.org/embryo-models-challenge-legal-ethical-and-biological-concepts-20230613/\", \"source\": \"Quanta Magazine\", \"image\": \"https://audiospace-1-u9912847.deta.app/getnewspic?id=siPIHKjWx9u7p4L0Zzn91697943622.8040574\"}, {\"title\": \"Reproductive technologies for sustainable livestock production\", \"body\": \"... embryo whereas an X chromosome-bearing sperm would produce a female embryo. ... animal geneticists have statistically correlated each SNP with animal performance.\", \"date\": \"Feb 20, 2023\", \"url\": \"https://www.openaccessgovernment.org/reproductive-technologies-sustainable-livestock-production-global-food-security/153299/\", \"source\": \"Open Access Government\", \"image\": \"https://audiospace-1-u9912847.deta.app/getnewspic?id=fw51ctvabs21B4Dnm8Cn1697943622.8460124\"}]}\n"
     ]
    }
   ],
   "source": [
    "import json\n",
    "print(json.dumps(_.json()))"
   ]
  },
  {
   "cell_type": "code",
   "execution_count": 10,
   "metadata": {},
   "outputs": [],
   "source": [
    "import json\n",
    "from dotenv import load_dotenv\n",
    "\n",
    "load_dotenv()\n",
    "\n",
    "url = \"https://newsnow.p.rapidapi.com/newsv2\"\n",
    "\n",
    "#Physiology of the digestive tract in dogs\n",
    "query = input(\"Qual o termo que você quer pesquisar?\")\n",
    "\n",
    "bGetNews = True\n",
    "\n",
    "i = 1\n",
    "while bGetNews:\n",
    "    bSuccess, _ = getNews(url = url,query = query, page = i, from_date='01/01/2023', to_date = '09/10/2023')\n",
    "    \n",
    "    if not bSuccess:\n",
    "        print(f\"Erro: {_}\")\n",
    "        bGetNews = False\n",
    "    \n",
    "    if len(_):\n",
    "        jsonData = json.dumps(_)\n",
    "        with open(f'temp_news/newsnow_{str(i)}.json', 'w') as f:\n",
    "            f.write(jsonData)\n",
    "    else:\n",
    "        bGetNews = False\n",
    "    i += 1"
   ]
  },
  {
   "cell_type": "code",
   "execution_count": 12,
   "metadata": {},
   "outputs": [
    {
     "data": {
      "text/plain": [
       "True"
      ]
     },
     "execution_count": 12,
     "metadata": {},
     "output_type": "execute_result"
    }
   ],
   "source": [
    "bSuccess"
   ]
  },
  {
   "cell_type": "code",
   "execution_count": 13,
   "metadata": {},
   "outputs": [
    {
     "name": "stderr",
     "output_type": "stream",
     "text": [
      "23/10/21 23:56:57 WARN Utils: Your hostname, billy-virus resolves to a loopback address: 127.0.1.1; using 192.168.1.27 instead (on interface wlp0s20f3)\n",
      "23/10/21 23:56:57 WARN Utils: Set SPARK_LOCAL_IP if you need to bind to another address\n",
      "Setting default log level to \"WARN\".\n",
      "To adjust logging level use sc.setLogLevel(newLevel). For SparkR, use setLogLevel(newLevel).\n",
      "23/10/21 23:56:58 WARN NativeCodeLoader: Unable to load native-hadoop library for your platform... using builtin-java classes where applicable\n"
     ]
    }
   ],
   "source": [
    "import findspark\n",
    "findspark.init()\n",
    "\n",
    "from pyspark.sql import SparkSession\n",
    "from pyspark.sql import functions as F\n",
    "from pyspark.sql import Window as W\n",
    "\n",
    "from pyspark.sql.types import StructType, StructField, StringType, IntegerType\n",
    "# Configurando a sessão Spark\n",
    "spark = SparkSession.builder.appName(\"biocast\").getOrCreate()"
   ]
  },
  {
   "cell_type": "code",
   "execution_count": 14,
   "metadata": {},
   "outputs": [
    {
     "data": {
      "text/plain": [
       "DataFrame[body: string, date: string, image: string, source: string, title: string, url: string]"
      ]
     },
     "execution_count": 14,
     "metadata": {},
     "output_type": "execute_result"
    }
   ],
   "source": [
    "newsnow = spark.read.option(\"multiline\",\"true\").json(\"temp_news/*\")\n",
    "newsnow = (\n",
    "    newsnow\n",
    ")\n",
    "newsnow.cache()\n",
    "newsnow.repartition(1)"
   ]
  },
  {
   "cell_type": "code",
   "execution_count": 15,
   "metadata": {},
   "outputs": [
    {
     "name": "stderr",
     "output_type": "stream",
     "text": [
      "23/10/21 23:57:02 WARN CacheManager: Asked to cache already cached data.\n"
     ]
    },
    {
     "data": {
      "text/plain": [
       "DataFrame[body: string, date: string, image: string, source: string, title: string, url: string]"
      ]
     },
     "execution_count": 15,
     "metadata": {},
     "output_type": "execute_result"
    }
   ],
   "source": [
    "from translate import Translator\n",
    "from googletrans import Translator as Tgoogle\n",
    "import re\n",
    "\n",
    "# Função para remover caracteres não alfanuméricos\n",
    "def remove_non_alphanumeric(text):\n",
    "    return re.sub(r'[^a-zA-Z0-9\\s]', '', text)\n",
    "\n",
    "# Registrar a função UDF\n",
    "remove_non_alphanumeric_udf = F.udf(remove_non_alphanumeric, StringType())\n",
    "\n",
    "# Função para traduzir uma coluna\n",
    "def translate_column_translate(text, target_lang='pt-br'):\n",
    "    translator = Translator(key=os.getenv('MYMEMORYKEY'), to_lang=target_lang)\n",
    "    return translator.translate(text)\n",
    "\n",
    "# Função para traduzir uma coluna\n",
    "def translate_column_google(text, source_lang='en', target_lang='pt_br'):\n",
    "    try:\n",
    "        if text is not None:\n",
    "            translator = Tgoogle()\n",
    "            translated = translator.translate(text, src=source_lang, dest=target_lang)\n",
    "            return translated.text\n",
    "    except Exception as e:\n",
    "        print(f\"Erro na tradução: {e}\")\n",
    "    return text\n",
    "\n",
    "# Registrar a função UDF\n",
    "translate_udf_google = F.udf(translate_column_google, StringType())\n",
    "\n",
    "# Registrar a função UDF\n",
    "translate_udf_translate = F.udf(translate_column_translate, StringType())\n",
    "\n",
    "# Use a função para traduzir as colunas desejadas\n",
    "newsnow_translate = (\n",
    "    newsnow\n",
    "    # .withColumn(\"body\", remove_non_alphanumeric_udf(F.col(\"body\")))\n",
    "    # .withColumn(\"title\", remove_non_alphanumeric_udf(F.col(\"title\")))\n",
    "    # .withColumn(\"title-pt_br-translate\", F.lit(translate_udf_translate(F.col(\"title\"))))\n",
    "    # .withColumn(\"title-pt_br-google\", F.lit(translate_udf_google(F.col(\"title\"))))\n",
    "    # .withColumn('title-pt_br', F.when(F.col('title')==F.col('title-pt_br-google'), F.col('title-pt_br-translate')).otherwise(F.col('title-pt_br-google')))\n",
    "    # .withColumn(\"body-pt_br-translate\", F.lit(translate_udf_translate(F.col(\"body\"))))\n",
    "    # .withColumn(\"body-pt_br-google\", F.lit(translate_udf_google(F.col(\"body\"))))\n",
    "    # .withColumn('body-pt_br', F.when(F.col('body')==F.col('body-pt_br-google'), F.col('body-pt_br-translate')).otherwise(F.col('body-pt_br-google')))\n",
    "    # .select(\n",
    "    #     F.col('source')\n",
    "    #     ,F.col('title')\n",
    "    #     ,F.col('body')\n",
    "    #     ,F.col('date')\n",
    "    #     ,F.col('title-pt_br')\n",
    "    #     ,F.col('body-pt_br')\n",
    "    #     ,F.col('url')\n",
    "    # )\n",
    ")\n",
    "\n",
    "# Exiba o DataFrame resultante\n",
    "newsnow_translate.cache()"
   ]
  },
  {
   "cell_type": "code",
   "execution_count": 16,
   "metadata": {},
   "outputs": [
    {
     "name": "stderr",
     "output_type": "stream",
     "text": [
      "                                                                                \r"
     ]
    }
   ],
   "source": [
    "newsnow_translate.write.option('encoding', 'utf-8').partitionBy('source').mode('overwrite').parquet('./parquet_news')"
   ]
  },
  {
   "cell_type": "code",
   "execution_count": 17,
   "metadata": {},
   "outputs": [
    {
     "name": "stdout",
     "output_type": "stream",
     "text": [
      "+--------------------+------------+--------------------+--------------------+--------------------+--------------------+\n",
      "|                body|        date|               image|               title|                 url|              source|\n",
      "+--------------------+------------+--------------------+--------------------+--------------------+--------------------+\n",
      "|So I needed an an...| May 9, 2023|https://audiospac...|Basic ‘toolkit’ f...|https://www.eurek...|         EurekAlert!|\n",
      "|SignificanceHealt...| May 8, 2023|https://audiospac...|An unanticipated ...|https://www.pnas....|                PNAS|\n",
      "|The researchers u...| May 4, 2023|https://audiospac...|Speeded-up Brillo...|https://physicswo...|       Physics World|\n",
      "|Every animal and ...|May 30, 2023|https://audiospac...|Cells, Not DNA, A...|https://www.noema...|      Noema Magazine|\n",
      "|New Zealand lives...|May 26, 2023|https://audiospac...|Brazil declares a...|https://www.farme...|     Farmer's Weekly|\n",
      "|/Scientific commu...|May 25, 2023|https://audiospac...|Chinmo, “the yout...|https://www.eurek...|         EurekAlert!|\n",
      "|Could the transfe...|May 25, 2023|https://audiospac...|The Uniquely Huma...|https://churchlif...| Church Life Journal|\n",
      "|/Scientific commu...|May 25, 2023|https://audiospac...|Chinmo, “the yout...|https://www.eurek...|         EurekAlert!|\n",
      "|The egg then deve...|May 25, 2023|https://audiospac...|Dubai camel cloni...|https://www.reute...|             Reuters|\n",
      "|Animal models, in...|May 24, 2023|https://audiospac...|A baby is born us...|https://www.mdlin...|              MDLinx|\n",
      "|image: Early dete...|May 22, 2023|https://audiospac...|Sexing chicken eg...|https://www.eurek...|         EurekAlert!|\n",
      "|Animal Science · ...|May 19, 2023|https://audiospac...|India’s First Mar...|https://icar.org....|                ICAR|\n",
      "|Transient agonism...|May 17, 2023|https://audiospac...|Transient agonism...|https://www.scien...|             Science|\n",
      "|The Human Fertili...|May 10, 2023|https://audiospac...|First UK children...|https://www.natur...|              Nature|\n",
      "|Conservation bree...| Mar 9, 2023|https://audiospac...|This zoo is breed...|https://www.cnn.c...|                 CNN|\n",
      "|... animal obsess...| Mar 9, 2023|https://audiospac...|Virginia Judge Us...|https://www.nbcwa...|     NBC4 Washington|\n",
      "|Epigenetic marks ...| Mar 9, 2023|https://audiospac...|The mice with two...|https://www.natur...|              Nature|\n",
      "|Rising Adoption o...| Mar 8, 2023|https://audiospac...|Animal Genetics M...|https://www.globe...|       GlobeNewswire|\n",
      "|... embryo that t...| Mar 6, 2023|https://audiospac...|A quirk in animal...|https://www.theat...|        The Atlantic|\n",
      "|... embryo and co...| Mar 6, 2023|https://audiospac...|These Researchers...|https://www.scien...|Scientific Americ...|\n",
      "+--------------------+------------+--------------------+--------------------+--------------------+--------------------+\n",
      "only showing top 20 rows\n",
      "\n"
     ]
    }
   ],
   "source": [
    "teste = spark.read.parquet('parquet_news')\n",
    "teste.sort(F.col('date').desc()).show()"
   ]
  },
  {
   "cell_type": "code",
   "execution_count": null,
   "metadata": {},
   "outputs": [
    {
     "name": "stdout",
     "output_type": "stream",
     "text": [
      "+--------------------------------------------------------------+------------------------------------------------------------------------------------------------------------------------------------------------------------+------------+---------------------------------------------------------------------------------------------------------------------------------------------------------------------------------------------------+-------------------------------------------------------------------------------------------------------------------------------------------------------------------------------------------------------+--------------------------------------------------+------+\n",
      "|title                                                         |body                                                                                                                                                        |date        |title-pt_br                                                                                                                                                                                        |body-pt_br                                                                                                                                                                                             |url                                               |source|\n",
      "+--------------------------------------------------------------+------------------------------------------------------------------------------------------------------------------------------------------------------------+------------+---------------------------------------------------------------------------------------------------------------------------------------------------------------------------------------------------+-------------------------------------------------------------------------------------------------------------------------------------------------------------------------------------------------------+--------------------------------------------------+------+\n",
      "|Evaluation of an automated dish preparation system for IVF    | animal embryology experience They were engaged in the dish preparation and embryo cultivation during the whole process Working mechanism of automated      |3 weeks ago |Avaliação de um sistema automatizado de preparação de pratos para FIV                                                                                                                              |experiência em embriologia animal Eles estavam envolvidos na preparação de pratos e cultivo de embriões durante todo o processo Mecanismo de trabalho de                                               |https://www.nature.com/articles/s41598-023-43665-y|Nature|\n",
      "|First UK children born using threeperson IVF what scientists  |The Human Fertilisation and Embryology Authority HFEA the UK fertility  Animal and cell studies have found that in some cases the carriedover               |May 10, 2023|Primeiras crianças do Reino Unido nascidas usando FIV de três pessoas que os cientistas                                                                                                            |The Human Fertilisation and Embryology Authority HFEA the UK Fertilization Animal and cell studies have found that in some cases the carryover                                                         |https://www.nature.com/articles/d41586-023-01585-x|Nature|\n",
      "|What is an embryo Scientists say definition needs to change   | animal models which are not always reliable guides to human development Last year researchers reported mouse embryo models that could develop to a stage   |Aug 18, 2023|O que é um embrião Cientistas dizem que a definição precisa mudar                                                                                                                                  |modelos animais que nem sempre são guias confiáveis para o desenvolvimento humano No ano passado, pesquisadores relataram modelos de embriões de camundongos que poderiam se desenvolver até um estágio|https://www.nature.com/articles/d41586-023-02641-2|Nature|\n",
      "|Successful induction of pseudopregnancy using sonic           |Embryo transfer ET is an essential reproductive technology for the production of new animal strains and maintenance of genetic resources                    |Mar 3, 2023 |MYMEMORY WARNING: YOU USED ALL AVAILABLE FREE TRANSLATIONS FOR TODAY. NEXT AVAILABLE IN  06 HOURS 21 MINUTES 58 SECONDS VISIT HTTPS://MYMEMORY.TRANSLATED.NET/DOC/USAGELIMITS.PHP TO TRANSLATE MORE|MYMEMORY WARNING: YOU USED ALL AVAILABLE FREE TRANSLATIONS FOR TODAY. NEXT AVAILABLE IN  06 HOURS 21 MINUTES 56 SECONDS VISIT HTTPS://MYMEMORY.TRANSLATED.NET/DOC/USAGELIMITS.PHP TO TRANSLATE MORE    |https://www.nature.com/articles/s41598-023-30774-x|Nature|\n",
      "|How Dolly the sheeps legacy lives on CRISPR cattle and        | animal to be cloned The modified egg cell gives rise to an embryo which is implanted in the womb of a surrogate animal A sheep leaning over a fence in a   |4 weeks ago |MYMEMORY WARNING: YOU USED ALL AVAILABLE FREE TRANSLATIONS FOR TODAY. NEXT AVAILABLE IN  06 HOURS 21 MINUTES 11 SECONDS VISIT HTTPS://MYMEMORY.TRANSLATED.NET/DOC/USAGELIMITS.PHP TO TRANSLATE MORE|MYMEMORY WARNING: YOU USED ALL AVAILABLE FREE TRANSLATIONS FOR TODAY. NEXT AVAILABLE IN  06 HOURS 21 MINUTES 09 SECONDS VISIT HTTPS://MYMEMORY.TRANSLATED.NET/DOC/USAGELIMITS.PHP TO TRANSLATE MORE    |https://www.nature.com/articles/d41586-023-02921-x|Nature|\n",
      "|Extended embryo retention and viviparity in the first amniotes|The high degree of ossification of the skeleton indicates that the unhatched embryo was in a late developmental stage Ontogenetically the animal was        |Jun 12, 2023|MYMEMORY WARNING: YOU USED ALL AVAILABLE FREE TRANSLATIONS FOR TODAY. NEXT AVAILABLE IN  06 HOURS 21 MINUTES 07 SECONDS VISIT HTTPS://MYMEMORY.TRANSLATED.NET/DOC/USAGELIMITS.PHP TO TRANSLATE MORE|MYMEMORY WARNING: YOU USED ALL AVAILABLE FREE TRANSLATIONS FOR TODAY. NEXT AVAILABLE IN  06 HOURS 21 MINUTES 05 SECONDS VISIT HTTPS://MYMEMORY.TRANSLATED.NET/DOC/USAGELIMITS.PHP TO TRANSLATE MORE    |https://www.nature.com/articles/s41559-023-02074-0|Nature|\n",
      "|Developing human embryos imaged at highestever resolution     |Related Articles Human embryo science can the worlds regulators keep pace From egg to animal retracing an embryos first steps                               |Jul 6, 2023 |MYMEMORY WARNING: YOU USED ALL AVAILABLE FREE TRANSLATIONS FOR TODAY. NEXT AVAILABLE IN  06 HOURS 20 MINUTES 49 SECONDS VISIT HTTPS://MYMEMORY.TRANSLATED.NET/DOC/USAGELIMITS.PHP TO TRANSLATE MORE|MYMEMORY WARNING: YOU USED ALL AVAILABLE FREE TRANSLATIONS FOR TODAY. NEXT AVAILABLE IN  06 HOURS 20 MINUTES 46 SECONDS VISIT HTTPS://MYMEMORY.TRANSLATED.NET/DOC/USAGELIMITS.PHP TO TRANSLATE MORE    |https://www.nature.com/articles/d41586-023-02222-3|Nature|\n",
      "|The mice with two dads scientists create eggs from male cells |Epigenetic marks on DNA can influence development in the offspring well beyond the embryo stage Another concern is that performing the same technique with  |Mar 9, 2023 |MYMEMORY WARNING: YOU USED ALL AVAILABLE FREE TRANSLATIONS FOR TODAY. NEXT AVAILABLE IN  06 HOURS 21 MINUTES 58 SECONDS VISIT HTTPS://MYMEMORY.TRANSLATED.NET/DOC/USAGELIMITS.PHP TO TRANSLATE MORE|MYMEMORY WARNING: YOU USED ALL AVAILABLE FREE TRANSLATIONS FOR TODAY. NEXT AVAILABLE IN  06 HOURS 21 MINUTES 56 SECONDS VISIT HTTPS://MYMEMORY.TRANSLATED.NET/DOC/USAGELIMITS.PHP TO TRANSLATE MORE    |https://www.nature.com/articles/d41586-023-00717-7|Nature|\n",
      "|The brain regulatory program predates central nervous system  |af Nvsix36venus mRNA injected animals In all images aboral is to the left and oral is to the right Quantification of percent embryo length PEL              |May 27, 2023|MYMEMORY WARNING: YOU USED ALL AVAILABLE FREE TRANSLATIONS FOR TODAY. NEXT AVAILABLE IN  06 HOURS 21 MINUTES 29 SECONDS VISIT HTTPS://MYMEMORY.TRANSLATED.NET/DOC/USAGELIMITS.PHP TO TRANSLATE MORE|MYMEMORY WARNING: YOU USED ALL AVAILABLE FREE TRANSLATIONS FOR TODAY. NEXT AVAILABLE IN  06 HOURS 21 MINUTES 27 SECONDS VISIT HTTPS://MYMEMORY.TRANSLATED.NET/DOC/USAGELIMITS.PHP TO TRANSLATE MORE    |https://www.nature.com/articles/s41598-023-35721-4|Nature|\n",
      "|Selfpatterning of human stem cells into postimplantation      |All experiments on mice were regulated following ethical review by the Yale University Institutional Animal Care and Use Committee  Embryology  Embryonic   |Jun 27, 2023|MYMEMORY WARNING: YOU USED ALL AVAILABLE FREE TRANSLATIONS FOR TODAY. NEXT AVAILABLE IN  06 HOURS 21 MINUTES 05 SECONDS VISIT HTTPS://MYMEMORY.TRANSLATED.NET/DOC/USAGELIMITS.PHP TO TRANSLATE MORE|MYMEMORY WARNING: YOU USED ALL AVAILABLE FREE TRANSLATIONS FOR TODAY. NEXT AVAILABLE IN  06 HOURS 21 MINUTES 03 SECONDS VISIT HTTPS://MYMEMORY.TRANSLATED.NET/DOC/USAGELIMITS.PHP TO TRANSLATE MORE    |https://www.nature.com/articles/s41586-023-06354-4|Nature|\n",
      "|The molecular evolution of genes previously associated with   |For example the blue whale Balaenoptera musculus is the largest animal  embryo growth and cell survival This is a candidate gene for future analysis        |Jan 19, 2023|MYMEMORY WARNING: YOU USED ALL AVAILABLE FREE TRANSLATIONS FOR TODAY. NEXT AVAILABLE IN  06 HOURS 21 MINUTES 46 SECONDS VISIT HTTPS://MYMEMORY.TRANSLATED.NET/DOC/USAGELIMITS.PHP TO TRANSLATE MORE|MYMEMORY WARNING: YOU USED ALL AVAILABLE FREE TRANSLATIONS FOR TODAY. NEXT AVAILABLE IN  06 HOURS 21 MINUTES 44 SECONDS VISIT HTTPS://MYMEMORY.TRANSLATED.NET/DOC/USAGELIMITS.PHP TO TRANSLATE MORE    |https://www.nature.com/articles/s41598-022-24529-3|Nature|\n",
      "|Photodependent cytosolic delivery of shRNA into a single      | embryo development The photoinduced cytosolic dispersion of RNA PCDR method  Department of Animal Science Graduate of Environmental and Life Science       |Aug 11, 2023|MYMEMORY WARNING: YOU USED ALL AVAILABLE FREE TRANSLATIONS FOR TODAY. NEXT AVAILABLE IN  06 HOURS 21 MINUTES 37 SECONDS VISIT HTTPS://MYMEMORY.TRANSLATED.NET/DOC/USAGELIMITS.PHP TO TRANSLATE MORE|MYMEMORY WARNING: YOU USED ALL AVAILABLE FREE TRANSLATIONS FOR TODAY. NEXT AVAILABLE IN  06 HOURS 21 MINUTES 34 SECONDS VISIT HTTPS://MYMEMORY.TRANSLATED.NET/DOC/USAGELIMITS.PHP TO TRANSLATE MORE    |https://www.nature.com/articles/s41598-023-40361-9|Nature|\n",
      "|Spatiotemporal transcriptomic maps of whole mouse embryos     |Animal work and embryo preparation WT and KO embryos WT E85 E90 and E95 embryos were dissected from the uteri of naturally mated CD1 mice in 1 HBSS         |Jul 6, 2023 |Mapas transcriptômicos espaço-temporais de embriões de camundongos inteiros                                                                                                                        |O trabalho com animais e a preparação de embriões Embriões WT e KO Embriões WT E85 E90 e E95 foram dissecados do útero de camundongos CD1 naturalmente acasalados em 1 HBSS                            |https://www.nature.com/articles/s41588-023-01435-6|Nature|\n",
      "|A novel technique for largefragment knockin animal            |In situ electroporation called genome editing via oviductal nucleic acid delivery GONAD which eliminates the need for ex vivo embryo handling is technically|Feb 8, 2023 |Uma nova técnica para animais knockin de grandes fragmentos                                                                                                                                        |A eletroporação in situ chamada edição do genoma via GÔNADA de distribuição de ácido nucleico ovidutal que elimina a necessidade de manipulação de embriões ex vivo é tecnicamente                     |https://www.nature.com/articles/s41598-023-29468-1|Nature|\n",
      "+--------------------------------------------------------------+------------------------------------------------------------------------------------------------------------------------------------------------------------+------------+---------------------------------------------------------------------------------------------------------------------------------------------------------------------------------------------------+-------------------------------------------------------------------------------------------------------------------------------------------------------------------------------------------------------+--------------------------------------------------+------+\n",
      "\n"
     ]
    }
   ],
   "source": [
    "teste.filter(F.col('source')=='Nature').show(truncate=False)"
   ]
  },
  {
   "cell_type": "code",
   "execution_count": null,
   "metadata": {},
   "outputs": [
    {
     "name": "stdout",
     "output_type": "stream",
     "text": [
      "+---------------------------------------------------------------------------------------------------------------------------------------------------------------------------------------------------------------------+\n",
      "|url                                                                                                                                                                                                                  |\n",
      "+---------------------------------------------------------------------------------------------------------------------------------------------------------------------------------------------------------------------+\n",
      "|https://www.globenewswire.com/en/news-release/2023/03/08/2623170/0/en/Animal-Genetics-Market-Size-to-Hit-8-21-Billion-Globally-by-2028-Lead-by-Porcine-Segment-with-7-CAGR-during-2022-2028-The-Insight-Partners.html|\n",
      "|https://english.elpais.com/science-tech/2023-09-07/the-first-human-organ-created-inside-an-animal-opens-the-door-to-manufacturing-spare-parts-for-people.html                                                        |\n",
      "|https://www.gov.uk/government/publications/bovine-and-boar-semen-collection-and-breeding-licence-application/fees-for-bovine-embryo-collection-production-and-transfer-teams-and-storage-centres                     |\n",
      "|https://www.thehindu.com/sci-tech/science/the-animal-that-senses-electric-fields-tolerates-snow-and-has-mating-trains/article67244337.ece                                                                            |\n",
      "|https://hoards.com/article-33117-emgenisys-a-company-developing-solutions-to-evaluate-cattle-embryo-health-named-runner-up-in-ag-innovation-challenge.html                                                           |\n",
      "|https://www.statesman.com/story/business/technology/2023/09/20/texas-deextinction-startup-joins-effort-to-save-northern-white-rhinos/70896042007/                                                                    |\n",
      "|https://www.i24news.tv/en/news/international/technology-science/1676021879-scientists-working-to-resurrect-dinosaurs-extinct-animals                                                                                 |\n",
      "|https://www.jsonline.com/story/news/2023/08/03/scientists-are-closing-in-on-answers-to-the-mystery-of-how-we-develop/70485787007/                                                                                    |\n",
      "|https://www.technologynetworks.com/applied-sciences/articles/are-microplastics-increasing-the-need-for-assisted-reproduction-375844                                                                                  |\n",
      "|https://m.timesofindia.com/home/science/pigs-with-human-brain-cells-and-biological-chips-how-lab-grown-hybrid-lifeforms-bamboozle-scientific-ethics/articleshow/103752812.cms                                        |\n",
      "|https://nypost.com/2023/10/04/mermaid-puppy-with-6-legs-abandoned-in-parking-lot-never-seen-this-before/                                                                                                             |\n",
      "|https://www.theguardian.com/science/2023/sep/18/gay-gene-epigenetics-evolution-sexual-orientation                                                                                                                    |\n",
      "|https://www.sbs.com.au/language/spanish/en/podcast-episode/embryo-zoo-now-possible-australian-university-part-of-ivf-breakthrough-in-donkeys/nol1lbfnh                                                               |\n",
      "|https://www.nature.com/articles/s41598-023-43665-y                                                                                                                                                                   |\n",
      "|https://www.nature.com/articles/d41586-023-01585-x                                                                                                                                                                   |\n",
      "|https://www.nature.com/articles/d41586-023-02641-2                                                                                                                                                                   |\n",
      "|https://www.nature.com/articles/s41598-023-30774-x                                                                                                                                                                   |\n",
      "|https://www.nature.com/articles/d41586-023-02921-x                                                                                                                                                                   |\n",
      "|https://www.nature.com/articles/s41559-023-02074-0                                                                                                                                                                   |\n",
      "|https://www.nature.com/articles/d41586-023-02222-3                                                                                                                                                                   |\n",
      "+---------------------------------------------------------------------------------------------------------------------------------------------------------------------------------------------------------------------+\n",
      "only showing top 20 rows\n",
      "\n"
     ]
    }
   ],
   "source": [
    "teste.select('url').show(truncate=False)"
   ]
  },
  {
   "cell_type": "code",
   "execution_count": 11,
   "metadata": {},
   "outputs": [],
   "source": [
    "spark.stop()"
   ]
  },
  {
   "cell_type": "code",
   "execution_count": null,
   "metadata": {},
   "outputs": [],
   "source": []
  }
 ],
 "metadata": {
  "kernelspec": {
   "display_name": ".venv",
   "language": "python",
   "name": "python3"
  },
  "language_info": {
   "codemirror_mode": {
    "name": "ipython",
    "version": 3
   },
   "file_extension": ".py",
   "mimetype": "text/x-python",
   "name": "python",
   "nbconvert_exporter": "python",
   "pygments_lexer": "ipython3",
   "version": "3.11.2"
  }
 },
 "nbformat": 4,
 "nbformat_minor": 2
}
