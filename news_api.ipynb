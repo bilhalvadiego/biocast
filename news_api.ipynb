{
 "cells": [
  {
   "cell_type": "markdown",
   "metadata": {},
   "source": [
    "# DOCS:\n",
    "\n",
    "[DOCS](https://rapidapi.com/rphrp1985/api/newsnow)"
   ]
  },
  {
   "cell_type": "code",
   "execution_count": 1,
   "metadata": {},
   "outputs": [],
   "source": [
    "import os\n",
    "\n",
    "def excluir_arquivos_em_pasta(pasta):\n",
    "    # Verifica se a pasta existe\n",
    "    if os.path.exists(pasta):\n",
    "        # Lista os arquivos na pasta\n",
    "        arquivos = os.listdir(pasta)\n",
    "        \n",
    "        # Itera sobre os arquivos e os exclui\n",
    "        for arquivo in arquivos:\n",
    "            caminho_arquivo = os.path.join(pasta, arquivo)\n",
    "            if os.path.isfile(caminho_arquivo):\n",
    "                os.remove(caminho_arquivo)\n",
    "            else:\n",
    "                print(f\"{caminho_arquivo} não é um arquivo e não será excluído.\")\n",
    "        \n",
    "        print(\"Arquivos excluídos com sucesso.\")\n",
    "    else:\n",
    "        print(f\"A pasta {pasta} não existe.\")"
   ]
  },
  {
   "cell_type": "code",
   "execution_count": 2,
   "metadata": {},
   "outputs": [
    {
     "name": "stdout",
     "output_type": "stream",
     "text": [
      "Arquivos excluídos com sucesso.\n"
     ]
    }
   ],
   "source": [
    "# Substitua 'caminho_para_pasta' pelo caminho da pasta que você deseja verificar e limpar.\n",
    "excluir_arquivos_em_pasta('temp_news')\n",
    "\n",
    "from datetime import datetime, timedelta\n",
    "import requests \n",
    "\n",
    "def getNews(url: str, query: str, page: int = 1, from_date: str = None, to_date: str = None):\n",
    "    # Verifica se from_date e to_date não foram fornecidos e define-os como ontem\n",
    "    if from_date is None: \n",
    "        yesterday = datetime.now() - timedelta(days=1)\n",
    "        from_date = yesterday.strftime('%d/%m/%Y')\n",
    "    \n",
    "    if to_date is None: \n",
    "        yesterday = datetime.now() - timedelta(days=1)\n",
    "        to_date = yesterday.strftime('%d/%m/%Y')\n",
    "    \n",
    "    # Converte as datas de string (dd/MM/yyyy) para objetos datetime\n",
    "    from_date = datetime.strptime(from_date, '%d/%m/%Y')\n",
    "    to_date = datetime.strptime(to_date, '%d/%m/%Y')\n",
    "\n",
    "    # Formate as datas para o formato esperado\n",
    "    from_date_str = from_date.strftime('%d/%m/%Y')\n",
    "    to_date_str = to_date.strftime('%d/%m/%Y')\n",
    "\n",
    "    payload = {\n",
    "        \"query\": query,\n",
    "        \"page\": page,\n",
    "        \"time_bounded\": True,\n",
    "        \"from_date\": from_date_str,\n",
    "        \"to_date\": to_date_str,\n",
    "        \"location\": \"\",\n",
    "        \"category\": \"\",\n",
    "        \"source\": \"\"\n",
    "    }\n",
    "    headers = {\n",
    "        \"content-type\": \"application/json\",\n",
    "        \"X-RapidAPI-Key\": os.getenv(\"RAPIDAPI\"),\n",
    "        \"X-RapidAPI-Host\": \"newsnow.p.rapidapi.com\"\n",
    "    }\n",
    "\n",
    "    response = requests.post(url, json=payload, headers=headers)\n",
    "    response = response.json()['news']\n",
    "    return response"
   ]
  },
  {
   "cell_type": "code",
   "execution_count": 3,
   "metadata": {},
   "outputs": [],
   "source": [
    "import json\n",
    "from dotenv import load_dotenv\n",
    "\n",
    "load_dotenv()\n",
    "\n",
    "url = \"https://newsnow.p.rapidapi.com/newsv2\"\n",
    "\n",
    "#Physiology of the digestive tract in dogs\n",
    "query = input(\"Qual o termo que você quer pesquisar?\")\n",
    "\n",
    "bGetNews = True\n",
    "\n",
    "i = 1\n",
    "while bGetNews:\n",
    "    _ = getNews(url = url,query = query, page = i, from_date='01/01/2023', to_date = '09/10/2023')\n",
    "    \n",
    "    if len(_):\n",
    "        jsonData = json.dumps(_)\n",
    "        with open(f'temp_news/newsnow_{str(i)}.json', 'w') as f:\n",
    "            f.write(jsonData)\n",
    "    else:\n",
    "        bGetNews = False\n",
    "    i += 1"
   ]
  },
  {
   "cell_type": "code",
   "execution_count": 4,
   "metadata": {},
   "outputs": [
    {
     "name": "stderr",
     "output_type": "stream",
     "text": [
      "23/10/19 12:17:48 WARN Utils: Your hostname, billy-virus resolves to a loopback address: 127.0.1.1; using 192.168.1.27 instead (on interface wlp0s20f3)\n",
      "23/10/19 12:17:48 WARN Utils: Set SPARK_LOCAL_IP if you need to bind to another address\n",
      "Setting default log level to \"WARN\".\n",
      "To adjust logging level use sc.setLogLevel(newLevel). For SparkR, use setLogLevel(newLevel).\n",
      "23/10/19 12:17:48 WARN NativeCodeLoader: Unable to load native-hadoop library for your platform... using builtin-java classes where applicable\n"
     ]
    }
   ],
   "source": [
    "import findspark\n",
    "findspark.init()\n",
    "\n",
    "from pyspark.sql import SparkSession\n",
    "from pyspark.sql import functions as F\n",
    "from pyspark.sql import Window as W\n",
    "\n",
    "from pyspark.sql.types import StructType, StructField, StringType, IntegerType\n",
    "# Configurando a sessão Spark\n",
    "spark = SparkSession.builder.appName(\"biocast\").getOrCreate()"
   ]
  },
  {
   "cell_type": "code",
   "execution_count": 5,
   "metadata": {},
   "outputs": [
    {
     "data": {
      "text/plain": [
       "DataFrame[body: string, date: string, image: string, source: string, title: string, url: string]"
      ]
     },
     "execution_count": 5,
     "metadata": {},
     "output_type": "execute_result"
    }
   ],
   "source": [
    "newsnow = spark.read.option(\"multiline\",\"true\").json(\"temp_news/*\")\n",
    "newsnow = (\n",
    "    newsnow\n",
    ")\n",
    "newsnow.cache()\n",
    "newsnow.repartition(1)"
   ]
  },
  {
   "cell_type": "code",
   "execution_count": 6,
   "metadata": {},
   "outputs": [
    {
     "data": {
      "text/plain": [
       "DataFrame[source: string, title: string, body: string, date: string, title-pt_br: string, body-pt_br: string, url: string]"
      ]
     },
     "execution_count": 6,
     "metadata": {},
     "output_type": "execute_result"
    }
   ],
   "source": [
    "from translate import Translator\n",
    "from googletrans import Translator as Tgoogle\n",
    "import re\n",
    "\n",
    "# Função para remover caracteres não alfanuméricos\n",
    "def remove_non_alphanumeric(text):\n",
    "    return re.sub(r'[^a-zA-Z0-9\\s]', '', text)\n",
    "\n",
    "# Registrar a função UDF\n",
    "remove_non_alphanumeric_udf = F.udf(remove_non_alphanumeric, StringType())\n",
    "\n",
    "# Função para traduzir uma coluna\n",
    "def translate_column_translate(text, target_lang='pt-br'):\n",
    "    translator = Translator(key=os.getenv('MYMEMORYKEY'), to_lang=target_lang)\n",
    "    return translator.translate(text)\n",
    "\n",
    "# Função para traduzir uma coluna\n",
    "def translate_column_google(text, source_lang='en', target_lang='pt_br'):\n",
    "    try:\n",
    "        if text is not None:\n",
    "            translator = Tgoogle()\n",
    "            translated = translator.translate(text, src=source_lang, dest=target_lang)\n",
    "            return translated.text\n",
    "    except Exception as e:\n",
    "        print(f\"Erro na tradução: {e}\")\n",
    "    return text\n",
    "\n",
    "# Registrar a função UDF\n",
    "translate_udf_google = F.udf(translate_column_google, StringType())\n",
    "\n",
    "# Registrar a função UDF\n",
    "translate_udf_translate = F.udf(translate_column_translate, StringType())\n",
    "\n",
    "# Use a função para traduzir as colunas desejadas\n",
    "newsnow_translate = (\n",
    "    newsnow\n",
    "    .withColumn(\"body\", remove_non_alphanumeric_udf(F.col(\"body\")))\n",
    "    .withColumn(\"title\", remove_non_alphanumeric_udf(F.col(\"title\")))\n",
    "    .withColumn(\"title-pt_br-translate\", F.lit(translate_udf_translate(F.col(\"title\"))))\n",
    "    .withColumn(\"title-pt_br-google\", F.lit(translate_udf_google(F.col(\"title\"))))\n",
    "    .withColumn('title-pt_br', F.when(F.col('title')==F.col('title-pt_br-google'), F.col('title-pt_br-translate')).otherwise(F.col('title-pt_br-google')))\n",
    "    .withColumn(\"body-pt_br-translate\", F.lit(translate_udf_translate(F.col(\"body\"))))\n",
    "    .withColumn(\"body-pt_br-google\", F.lit(translate_udf_google(F.col(\"body\"))))\n",
    "    .withColumn('body-pt_br', F.when(F.col('body')==F.col('body-pt_br-google'), F.col('body-pt_br-translate')).otherwise(F.col('body-pt_br-google')))\n",
    "    .select(\n",
    "        F.col('source')\n",
    "        ,F.col('title')\n",
    "        ,F.col('body')\n",
    "        ,F.col('date')\n",
    "        ,F.col('title-pt_br')\n",
    "        ,F.col('body-pt_br')\n",
    "        ,F.col('url')\n",
    "    )\n",
    ")\n",
    "\n",
    "# Exiba o DataFrame resultante\n",
    "newsnow_translate.cache()"
   ]
  },
  {
   "cell_type": "code",
   "execution_count": 7,
   "metadata": {},
   "outputs": [
    {
     "name": "stderr",
     "output_type": "stream",
     "text": [
      "Erro na tradução: the JSON object must be str, bytes or bytearray, not NoneType]\n",
      "Erro na tradução: the JSON object must be str, bytes or bytearray, not NoneType]\n",
      "Erro na tradução: the JSON object must be str, bytes or bytearray, not NoneType\n",
      "                                                                                \r"
     ]
    }
   ],
   "source": [
    "newsnow_translate.write.option('encoding', 'utf-8').partitionBy('source').mode('overwrite').parquet('./parquet_news')"
   ]
  },
  {
   "cell_type": "code",
   "execution_count": 8,
   "metadata": {},
   "outputs": [
    {
     "name": "stdout",
     "output_type": "stream",
     "text": [
      "+--------------------+--------------------+------------+--------------------+--------------------+--------------------+--------------------+\n",
      "|               title|                body|        date|         title-pt_br|          body-pt_br|                 url|              source|\n",
      "+--------------------+--------------------+------------+--------------------+--------------------+--------------------+--------------------+\n",
      "|Summary of opinio...|Summary of opinio...| 1 month ago|MYMEMORY WARNING:...|Resumo da opinião...|https://www.einne...|            EIN News|\n",
      "|Melbourne zoo her...|Asian elephant di...|Aug 24, 2023|Melbourne Zoo Her...|O elefante asiáti...|https://www.thegu...|        The Guardian|\n",
      "|European carp num...|There are renewed...|Jan 18, 2023|Números europeus ...|Há chamadas renov...|https://www.abc.n...|                 ABC|\n",
      "|Cytomegalovirus l...|Black and Native ...|May 31, 2023|O citomegalovírus...|Os bebês negros e...|https://theconver...|    The Conversation|\n",
      "|Cytomegalovirus l...|Black and Native ...|May 31, 2023|O citomegalovírus...|Os bebês negros e...|https://theconver...|    The Conversation|\n",
      "|Best Herpes Suppl...| herpes virus in ...|May 21, 2023|Melhores suplemen...|Vírus do herpes N...|https://www.times...| The Times of Israel|\n",
      "|Abalone herpes di...|Last week the dis...|Aug 23, 2023|A surto de doença...|Na semana passada...|https://www.abc.n...|                 ABC|\n",
      "|Espaoles detectan...|La PCR en tiempo ...| 1 month ago|Españoles Detecta...|La pcr en tiempo ...|https://www.anima...|     Animal's Health|\n",
      "|Monkeypox surveil...| herpesvirus with...| 1 month ago|A vigilância do M...|Herpesvírus com d...|https://www.thehi...|           The Hindu|\n",
      "|Assembly Bioscien...|Assembly Bioscien...|Feb 15, 2023|Assembly Bioscien...|Assembléia Biosci...|https://www.biosp...|            BioSpace|\n",
      "|Fears over radica...|Australian commer...| Mar 6, 2023|Medo sobre o plan...|Os pescadores com...|https://au.news.y...|          Yahoo News|\n",
      "|DirectActing Anti...|We are thrilled t...| 1 month ago|Antivirais de açã...|Estamos entusiasm...|https://www.conta...|      Contagion Live|\n",
      "|Louisville Zoos b...|Zoo officials sai...|Jun 29, 2023|Louisville Zoos, ...|Funcionários do z...|https://www.wlky....|                WLKY|\n",
      "|Cytomegalovirus e...|Human cytomegalov...|  1 week ago|O citomegalovírus...|O citomegalovírus...|https://medicalxp...|      Medical Xpress|\n",
      "|New chickenpox va...|The global health...| 1 month ago|Nova variante de ...|A Organização Glo...|https://www.dnain...|           DNA India|\n",
      "|Melanoma treatmen...|Melanoma Genetica...|Aug 18, 2023|O tratamento de m...|O vírus do herpes...|https://www.medic...|  Medical News Today|\n",
      "|Anti Herpesvirus ...|Anti Herpesvirus ...| 2 weeks ago|Mercado de agente...|Mercado de agente...|https://www.meade...|The Meade County ...|\n",
      "|Carp herpes virus...|An introduced her...|Jan 29, 2023|O vírus do Herpes...|Um vírus do herpe...|https://www.abc.n...|                 ABC|\n",
      "|Mother of threeye...| herpesvirus 6B H...|May 29, 2023|Mãe de três anos,...|herpesvírus 6b hh...|https://www.daily...|          Daily Mail|\n",
      "|AVMF VPRF announc...|The antiviral gan...|Apr 25, 2023|AVMF VPRF Anuncia...|O ganciclovir ant...|https://www.avma....|American Veterina...|\n",
      "+--------------------+--------------------+------------+--------------------+--------------------+--------------------+--------------------+\n",
      "only showing top 20 rows\n",
      "\n"
     ]
    }
   ],
   "source": [
    "teste = spark.read.parquet('parquet_news')\n",
    "teste.show()"
   ]
  },
  {
   "cell_type": "code",
   "execution_count": 15,
   "metadata": {},
   "outputs": [
    {
     "name": "stdout",
     "output_type": "stream",
     "text": [
      "+---------------------------------------------------------------------------------------------------------------------------------------------------------------------------------------------------+-----------------------------------------------------------------------------------------------------------------------------------------------------------------------------------------+\n",
      "|title-pt_br                                                                                                                                                                                        |url                                                                                                                                                                                      |\n",
      "+---------------------------------------------------------------------------------------------------------------------------------------------------------------------------------------------------+-----------------------------------------------------------------------------------------------------------------------------------------------------------------------------------------+\n",
      "|MYMEMORY WARNING: YOU USED ALL AVAILABLE FREE TRANSLATIONS FOR TODAY. NEXT AVAILABLE IN  17 HOURS 40 MINUTES 40 SECONDS VISIT HTTPS://MYMEMORY.TRANSLATED.NET/DOC/USAGELIMITS.PHP TO TRANSLATE MORE|https://www.einnews.com/pr_news/654622963/summary-of-opinion-prevexxion-rn-hvt-marek-s-disease-virus-strain-rn1250-live-turkey-herpesvirus-1-expressing-newcastle-disease-virus-and-avian|\n",
      "+---------------------------------------------------------------------------------------------------------------------------------------------------------------------------------------------------+-----------------------------------------------------------------------------------------------------------------------------------------------------------------------------------------+\n",
      "\n"
     ]
    }
   ],
   "source": [
    "teste.filter(F.col('title').like('Summary of opinio%')).select(F.col('title-pt_br'), F.col('url')).show(truncate=False)"
   ]
  },
  {
   "cell_type": "code",
   "execution_count": 9,
   "metadata": {},
   "outputs": [
    {
     "name": "stdout",
     "output_type": "stream",
     "text": [
      "+---------------------------------------------------------------+-------------------------------------------------------------------------------------------------------------------------------------------------------------+------------+---------------------------------------------------------------------+-------------------------------------------------------------------------------------------------------------------------------------------------------------------------------+--------------------------------------------------+------+\n",
      "|title                                                          |body                                                                                                                                                         |date        |title-pt_br                                                          |body-pt_br                                                                                                                                                                     |url                                               |source|\n",
      "+---------------------------------------------------------------+-------------------------------------------------------------------------------------------------------------------------------------------------------------+------------+---------------------------------------------------------------------+-------------------------------------------------------------------------------------------------------------------------------------------------------------------------------+--------------------------------------------------+------+\n",
      "|Fusion peptide is superior to coexpressing subunits for        |Some viruses including the herpes virus can be modified so that they can target and kill cancers These viruses can be loaded with factors that stimulate the |Mar 25, 2023|O peptídeo de fusão é superior a subunidades coexpressas para        |Alguns vírus, incluindo o vírus do herpes, podem ser modificados para que possam atingir e matar cânceres, esses vírus podem ser carregados com fatores que estimulam o        |https://www.nature.com/articles/s43856-023-00270-4|Nature|\n",
      "|Massive healthrecord review links viral illnesses to brain     |Mining health records This isnt the first time viruses have been linked to neurodegenerative disease Infection with a type of herpes virus has been          |Jan 23, 2023|A revisão masculina do HealthRecord vincula doenças virais ao cérebro|Os registros de saúde de mineração Este não é a primeira vez que os vírus têm sido vinculados à infecção por doenças neurodegenerativas com um tipo de vírus do herpes tem sido|https://www.nature.com/articles/d41586-023-00181-3|Nature|\n",
      "|The cellular and KSHV AtoI RNA editome in primary effusion     |Kaposis sarcomaassociated herpesvirus KSHV is the etiological agent of several human malignancies including primary effusion lymphoma PEL The extent of      |Mar 13, 2023|O editome do RNA celular e KSHV Atoi em Efusão Primária              |Kapose Sarcomaassociated Herpesvirus KSHV é o agente etiológico de várias neoplasias humanas, incluindo linfoma de derrame primário PEL a extensão de                          |https://www.nature.com/articles/s41467-023-37105-8|Nature|\n",
      "|APOBEC3B drives PKRmediated translation shutdown and           |Previous studies identified BORF2 expressed by EpsteinBarr virus and ORF61 expressed by Kaposis sarcoma herpesvirus as interactors with A3B These            |Feb 14, 2023|A ApoBec3b impulsiona o desligamento da tradução PKRMedied e         |Estudos anteriores identificados Borf2 expressos pelo vírus Epsteinbarr e ORF61 expressos pelo sarceas do sarcesvírus como interatores com A3b estes                           |https://www.nature.com/articles/s41467-023-36445-9|Nature|\n",
      "|Mirusviruses link herpesviruses to giant viruses               |Here we carried out a phylogenyguided genomeresolved metagenomic survey of the sunlit oceans and discovered planktoninfecting relatives of herpesviruses that|Apr 19, 2023|Mirusvírus liga herpesvírus a vírus gigantes                         |Aqui, realizamos uma pesquisa metagenômica de retenção genomeresoldada por filogenizedia dos oceanos iluminados pelo sol e descobriu parentes infectados por herpesvírus que   |https://www.nature.com/articles/s41586-023-05962-4|Nature|\n",
      "|Identification of herpesvirus transcripts from genomic regions |Herpesviruses are known to produce a range of transcripts either close to or overlapping replication origins Oris and neighboring genes related to           |3 weeks ago |Identificação de transcrições de herpesvírus de regiões genômicas    |Sabe -se que os vírus de herpes produzem uma variedade de transcrições próximas ou sobrepostas de origens de replicação e genes vizinhos relacionados a                        |https://www.nature.com/articles/s41598-023-43344-y|Nature|\n",
      "|Revealing mechanism of Methazolamide for treatment of          | herpesvirus infection Fig 3b Figure 3 figure 3 a Gene Ontology GO analysis of target genes The horizontal axis represents  log10 pvalue of                  |1 month ago |Mecanismo revelador de metazolamida para tratamento de               |infecção por herpesvírus Fig 3b Figura 3 Figura 3 Uma análise de genes da ontologia GO dos genes -alvo O eixo horizontal representa log10 pvalue de                            |https://www.nature.com/articles/s41598-023-42721-x|Nature|\n",
      "|Fibroblasts are a site of murine cytomegalovirus lytic         |Herpesviruses are recognized for using distinct cell types as sites of lytic replication and latent persistence In line with this myeloid progenitors and    |May 29, 2023|Os fibroblastos são um local de citomegalovírus murino               |Herpesvírus são reconhecidos por usar tipos de células distintos como locais de replicação lítica e persistência latente, de acordo com esses progenitores mielóides e         |https://www.nature.com/articles/s41467-023-38449-x|Nature|\n",
      "+---------------------------------------------------------------+-------------------------------------------------------------------------------------------------------------------------------------------------------------+------------+---------------------------------------------------------------------+-------------------------------------------------------------------------------------------------------------------------------------------------------------------------------+--------------------------------------------------+------+\n",
      "\n"
     ]
    }
   ],
   "source": [
    "teste.filter(F.col('source')=='Nature').show(truncate=False)"
   ]
  },
  {
   "cell_type": "code",
   "execution_count": 12,
   "metadata": {},
   "outputs": [],
   "source": [
    "spark.stop()"
   ]
  },
  {
   "cell_type": "code",
   "execution_count": null,
   "metadata": {},
   "outputs": [],
   "source": []
  }
 ],
 "metadata": {
  "kernelspec": {
   "display_name": ".venv",
   "language": "python",
   "name": "python3"
  },
  "language_info": {
   "codemirror_mode": {
    "name": "ipython",
    "version": 3
   },
   "file_extension": ".py",
   "mimetype": "text/x-python",
   "name": "python",
   "nbconvert_exporter": "python",
   "pygments_lexer": "ipython3",
   "version": "3.11.2"
  }
 },
 "nbformat": 4,
 "nbformat_minor": 2
}
