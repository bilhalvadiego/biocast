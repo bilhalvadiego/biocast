{
 "cells": [
  {
   "cell_type": "markdown",
   "metadata": {},
   "source": [
    "# DOCS:\n",
    "\n",
    "[DOCS](https://rapidapi.com/rphrp1985/api/newsnow)"
   ]
  },
  {
   "cell_type": "code",
   "execution_count": 1,
   "metadata": {},
   "outputs": [],
   "source": [
    "import os\n",
    "\n",
    "def excluir_arquivos_em_pasta(pasta):\n",
    "    # Verifica se a pasta existe\n",
    "    if os.path.exists(pasta):\n",
    "        # Lista os arquivos na pasta\n",
    "        arquivos = os.listdir(pasta)\n",
    "        \n",
    "        # Itera sobre os arquivos e os exclui\n",
    "        for arquivo in arquivos:\n",
    "            caminho_arquivo = os.path.join(pasta, arquivo)\n",
    "            if os.path.isfile(caminho_arquivo):\n",
    "                os.remove(caminho_arquivo)\n",
    "            else:\n",
    "                print(f\"{caminho_arquivo} não é um arquivo e não será excluído.\")\n",
    "        \n",
    "        print(\"Arquivos excluídos com sucesso.\")\n",
    "    else:\n",
    "        print(f\"A pasta {pasta} não existe.\")"
   ]
  },
  {
   "cell_type": "code",
   "execution_count": 2,
   "metadata": {},
   "outputs": [
    {
     "name": "stdout",
     "output_type": "stream",
     "text": [
      "Arquivos excluídos com sucesso.\n"
     ]
    }
   ],
   "source": [
    "# Substitua 'caminho_para_pasta' pelo caminho da pasta que você deseja verificar e limpar.\n",
    "excluir_arquivos_em_pasta('temp_news')\n",
    "\n",
    "from datetime import datetime, timedelta\n",
    "import requests \n",
    "\n",
    "def getNews(url: str, query: str, page: int = 1, from_date: str = None, to_date: str = None):\n",
    "    # Verifica se from_date e to_date não foram fornecidos e define-os como ontem\n",
    "    if from_date is None: \n",
    "        yesterday = datetime.now() - timedelta(days=1)\n",
    "        from_date = yesterday.strftime('%d/%m/%Y')\n",
    "    \n",
    "    if to_date is None: \n",
    "        yesterday = datetime.now() - timedelta(days=1)\n",
    "        to_date = yesterday.strftime('%d/%m/%Y')\n",
    "    \n",
    "    # Converte as datas de string (dd/MM/yyyy) para objetos datetime\n",
    "    from_date = datetime.strptime(from_date, '%d/%m/%Y')\n",
    "    to_date = datetime.strptime(to_date, '%d/%m/%Y')\n",
    "\n",
    "    # Formate as datas para o formato esperado\n",
    "    from_date_str = from_date.strftime('%d/%m/%Y')\n",
    "    to_date_str = to_date.strftime('%d/%m/%Y')\n",
    "\n",
    "    payload = {\n",
    "        \"query\": query,\n",
    "        \"page\": page,\n",
    "        \"time_bounded\": True,\n",
    "        \"from_date\": from_date_str,\n",
    "        \"to_date\": to_date_str,\n",
    "        \"location\": \"\",\n",
    "        \"category\": \"\",\n",
    "        \"source\": \"\"\n",
    "    }\n",
    "    headers = {\n",
    "        \"content-type\": \"application/json\",\n",
    "        \"X-RapidAPI-Key\": os.getenv(\"RAPIDAPI\"),\n",
    "        \"X-RapidAPI-Host\": \"newsnow.p.rapidapi.com\"\n",
    "    }\n",
    "\n",
    "    response = requests.post(url, json=payload, headers=headers)\n",
    "    response = response.json()['news']\n",
    "    return response"
   ]
  },
  {
   "cell_type": "code",
   "execution_count": 3,
   "metadata": {},
   "outputs": [],
   "source": [
    "import json\n",
    "from dotenv import load_dotenv\n",
    "\n",
    "load_dotenv()\n",
    "\n",
    "url = \"https://newsnow.p.rapidapi.com/newsv2\"\n",
    "\n",
    "#Physiology of the digestive tract in dogs\n",
    "query = input(\"Qual o termo que você quer pesquisar?\")\n",
    "\n",
    "bGetNews = True\n",
    "\n",
    "i = 1\n",
    "while bGetNews:\n",
    "    _ = getNews(url = url,query = query, page = i, from_date='01/01/2023', to_date = '09/10/2023')\n",
    "    \n",
    "    if len(_):\n",
    "        jsonData = json.dumps(_)\n",
    "        with open(f'temp_news/newsnow_{str(i)}.json', 'w') as f:\n",
    "            f.write(jsonData)\n",
    "    else:\n",
    "        bGetNews = False\n",
    "    i += 1"
   ]
  },
  {
   "cell_type": "code",
   "execution_count": 4,
   "metadata": {},
   "outputs": [
    {
     "name": "stderr",
     "output_type": "stream",
     "text": [
      "23/10/09 23:52:54 WARN Utils: Your hostname, billy-virus resolves to a loopback address: 127.0.1.1; using 192.168.1.27 instead (on interface wlp0s20f3)\n",
      "23/10/09 23:52:54 WARN Utils: Set SPARK_LOCAL_IP if you need to bind to another address\n",
      "Setting default log level to \"WARN\".\n",
      "To adjust logging level use sc.setLogLevel(newLevel). For SparkR, use setLogLevel(newLevel).\n",
      "23/10/09 23:52:55 WARN NativeCodeLoader: Unable to load native-hadoop library for your platform... using builtin-java classes where applicable\n"
     ]
    }
   ],
   "source": [
    "import findspark\n",
    "findspark.init()\n",
    "\n",
    "from pyspark.sql import SparkSession\n",
    "from pyspark.sql import functions as F\n",
    "from pyspark.sql import Window as W\n",
    "\n",
    "from pyspark.sql.types import StructType, StructField, StringType, IntegerType\n",
    "# Configurando a sessão Spark\n",
    "spark = SparkSession.builder.appName(\"Nubank_Analytics_Eng\").getOrCreate()"
   ]
  },
  {
   "cell_type": "code",
   "execution_count": 5,
   "metadata": {},
   "outputs": [
    {
     "data": {
      "text/plain": [
       "DataFrame[body: string, date: string, image: string, source: string, title: string, url: string]"
      ]
     },
     "execution_count": 5,
     "metadata": {},
     "output_type": "execute_result"
    }
   ],
   "source": [
    "newsnow = spark.read.option(\"multiline\",\"true\").json(\"temp_news/*\")\n",
    "newsnow = (\n",
    "    newsnow\n",
    ")\n",
    "newsnow.cache()\n",
    "newsnow.repartition(1)"
   ]
  },
  {
   "cell_type": "code",
   "execution_count": 6,
   "metadata": {},
   "outputs": [
    {
     "data": {
      "text/plain": [
       "DataFrame[source: string, title: string, body: string, date: string, title-pt_br: string, body-pt_br: string, url: string]"
      ]
     },
     "execution_count": 6,
     "metadata": {},
     "output_type": "execute_result"
    }
   ],
   "source": [
    "from translate import Translator\n",
    "from googletrans import Translator as Tgoogle\n",
    "import re\n",
    "\n",
    "# Função para remover caracteres não alfanuméricos\n",
    "def remove_non_alphanumeric(text):\n",
    "    return re.sub(r'[^a-zA-Z0-9\\s]', '', text)\n",
    "\n",
    "# Registrar a função UDF\n",
    "remove_non_alphanumeric_udf = F.udf(remove_non_alphanumeric, StringType())\n",
    "\n",
    "# Função para traduzir uma coluna\n",
    "def translate_column_translate(text, target_lang='pt-br'):\n",
    "    translator = Translator(key=os.getenv('MYMEMORYKEY'), to_lang=target_lang)\n",
    "    return translator.translate(text)\n",
    "\n",
    "# Função para traduzir uma coluna\n",
    "def translate_column_google(text, source_lang='en', target_lang='pt_br'):\n",
    "    try:\n",
    "        if text is not None:\n",
    "            translator = Tgoogle()\n",
    "            translated = translator.translate(text, src=source_lang, dest=target_lang)\n",
    "            return translated.text\n",
    "    except Exception as e:\n",
    "        print(f\"Erro na tradução: {e}\")\n",
    "    return text\n",
    "\n",
    "# Registrar a função UDF\n",
    "translate_udf_google = F.udf(translate_column_google, StringType())\n",
    "\n",
    "# Registrar a função UDF\n",
    "translate_udf_translate = F.udf(translate_column_translate, StringType())\n",
    "\n",
    "# Use a função para traduzir as colunas desejadas\n",
    "newsnow_translate = (\n",
    "    newsnow\n",
    "    .withColumn(\"body\", remove_non_alphanumeric_udf(F.col(\"body\")))\n",
    "    .withColumn(\"title\", remove_non_alphanumeric_udf(F.col(\"title\")))\n",
    "    .withColumn(\"title-pt_br-translate\", F.lit(translate_udf_translate(F.col(\"title\"))))\n",
    "    .withColumn(\"title-pt_br-google\", F.lit(translate_udf_google(F.col(\"title\"))))\n",
    "    .withColumn('title-pt_br', F.when(F.col('title')==F.col('title-pt_br-google'), F.col('title-pt_br-translate')).otherwise(F.col('title-pt_br-google')))\n",
    "    .withColumn(\"body-pt_br-translate\", F.lit(translate_udf_translate(F.col(\"body\"))))\n",
    "    .withColumn(\"body-pt_br-google\", F.lit(translate_udf_google(F.col(\"body\"))))\n",
    "    .withColumn('body-pt_br', F.when(F.col('body')==F.col('body-pt_br-google'), F.col('body-pt_br-translate')).otherwise(F.col('body-pt_br-google')))\n",
    "    .select(\n",
    "        F.col('source')\n",
    "        ,F.col('title')\n",
    "        ,F.col('body')\n",
    "        ,F.col('date')\n",
    "        ,F.col('title-pt_br')\n",
    "        ,F.col('body-pt_br')\n",
    "        ,F.col('url')\n",
    "    )\n",
    ")\n",
    "\n",
    "# Exiba o DataFrame resultante\n",
    "newsnow_translate.cache()"
   ]
  },
  {
   "cell_type": "code",
   "execution_count": 10,
   "metadata": {},
   "outputs": [
    {
     "name": "stderr",
     "output_type": "stream",
     "text": [
      "                                                                                \r"
     ]
    }
   ],
   "source": [
    "newsnow_translate.write.option('encoding', 'utf-8').partitionBy('source').mode('overwrite').parquet('./parquet_news')"
   ]
  },
  {
   "cell_type": "code",
   "execution_count": 11,
   "metadata": {},
   "outputs": [
    {
     "name": "stdout",
     "output_type": "stream",
     "text": [
      "+--------------------+--------------------+------------+--------------------+--------------------+--------------------+--------------------+\n",
      "|               title|                body|        date|         title-pt_br|          body-pt_br|                 url|              source|\n",
      "+--------------------+--------------------+------------+--------------------+--------------------+--------------------+--------------------+\n",
      "|The effect of pup...| gut barrier host...| Feb 9, 2023|O efeito da dieta...|Imunidade do hosp...|https://www.natur...|              Nature|\n",
      "|Comparative trans...|The porcine gut i...|Jan 24, 2023|A transcriptômica...|O intestino porci...|https://www.natur...|              Nature|\n",
      "|Detecting macroev...|Specialized diges...| Jan 5, 2023|Detectar o genoti...|Fisiologia digest...|https://www.natur...|              Nature|\n",
      "|Intratumoral micr...|A study of canine...|Jan 16, 2023|Papéis intratumor...|Um estudo de tumo...|https://www.natur...|              Nature|\n",
      "|Musculoskeletal r...|The European Spac...|Jan 28, 2023|Pesquisa musculoe...|A Agência Européi...|https://www.natur...|              Nature|\n",
      "|Neurocognitive ef...| digestive metabo...| Feb 9, 2023|Efeitos neurocogn...|Doenças metabólic...|https://www.natur...|              Nature|\n",
      "|Tooth enamel nitr...|Previous research...| Apr 7, 2023|Registros de comp...|Pesquisas anterio...|https://www.natur...|              Nature|\n",
      "|A dietary perspec...|Unlike dogs a cat...|Jul 29, 2023|Uma perspectiva a...|Ao contrário dos ...|https://www.natur...|              Nature|\n",
      "|Combination of tr...|Seven individuals...| Jun 2, 2023|Combinação de tri...|Sete indivíduos s...|https://www.natur...|              Nature|\n",
      "|Im a vet  4 dog b...| digestive system...|Apr 27, 2023|Eu sou uma raça d...|O sistema digesti...|https://www.the-s...|          The US Sun|\n",
      "|What microplastic...| physiology immun...|May 25, 2023|O que os microplá...|A fisiologia imun...|https://www.cbc.c...|                 CBC|\n",
      "|Regen CBD Gummies...|When you eat Rege...| 1 month ago|Regen CBD Gummies...|Quando você come ...|https://www.outlo...|       Outlook India|\n",
      "|Advancing microbi...|New evidence with...| 1 month ago|Pesquisa de micro...|Novas evidências ...|https://nutraceut...|Nutraceutical Bus...|\n",
      "|Hills Pet Nutriti...|Through treatment...| Mar 8, 2023|Hills Pet Nutriti...|Através do tratam...|https://www.dvm36...|              DVM360|\n",
      "|Physiological Rol...|2 Metabolic proce...|Jan 20, 2023|Papel fisiológico...|2 Processo metabó...|https://www.cureu...|              Cureus|\n",
      "|Family CourtAppoi...| physiology  are ...|Jun 19, 2023|Especialistas da ...|Fisiologia pode s...|https://frankrepo...|        Frank Report|\n",
      "|People with Chaga...|The bugs also bit...|Aug 14, 2023|Pessoas com chaga...|Os insetos também...|https://www.uclah...|         UCLA Health|\n",
      "|Expanding Use of ...| diseases are roo...|May 27, 2023|Expandir o uso de...|As doenças estão ...|https://truthout....|            Truthout|\n",
      "|Sea spiders can r...|These look exactl...|Jan 27, 2023|As aranhas -maras...|Eles parecem exat...|https://www.thena...|The Naked Scientists|\n",
      "|Best Adderall Alt...|The natural suppl...| Jul 7, 2023|Melhores alternat...|Os suplementos na...|https://washingto...|Washington City P...|\n",
      "+--------------------+--------------------+------------+--------------------+--------------------+--------------------+--------------------+\n",
      "only showing top 20 rows\n",
      "\n"
     ]
    }
   ],
   "source": [
    "teste = spark.read.parquet('parquet_news')\n",
    "teste.show()"
   ]
  },
  {
   "cell_type": "code",
   "execution_count": 12,
   "metadata": {},
   "outputs": [
    {
     "name": "stdout",
     "output_type": "stream",
     "text": [
      "+---------------------------------------------------------------+------------------------------------------------------------------------------------------------------------------------------------------------------------+------------+------------------------------------------------------------------------------+---------------------------------------------------------------------------------------------------------------------------------------------------------------------------------------+--------------------------------------------------+------+\n",
      "|title                                                          |body                                                                                                                                                        |date        |title-pt_br                                                                   |body-pt_br                                                                                                                                                                             |url                                               |source|\n",
      "+---------------------------------------------------------------+------------------------------------------------------------------------------------------------------------------------------------------------------------+------------+------------------------------------------------------------------------------+---------------------------------------------------------------------------------------------------------------------------------------------------------------------------------------+--------------------------------------------------+------+\n",
      "|The effect of puppyhood and adolescent diet on the incidence   | gut barrier host immunity and gut physiology Yet there is little information on  gastrointestinal tract of adult dogs FASEB J 33 58715871 2019             |Feb 9, 2023 |O efeito da dieta de filhotes e adolescentes na incidência                    |Imunidade do hospedeiro da barreira intestinal e fisiologia do intestino, mas há pouca informação sobre o trato gastrointestinal de cães adultos FASEB J 33 58715871 2019              |https://www.nature.com/articles/s41598-023-27866-z|Nature|\n",
      "|Comparative transcriptomics reveals highly conserved           |The porcine gut is increasingly regarded as a useful translational model The enteric nervous system in the colon coordinates diverse functions              |Jan 24, 2023|A transcriptômica comparativa revela altamente conservada                     |O intestino porcino é cada vez mais considerado como um modelo de tradução útil, o sistema nervoso entérico na cólon coordena diversas funções                                         |https://www.nature.com/articles/s42003-023-04478-x|Nature|\n",
      "|Detecting macroevolutionary genotypephenotype                  |Specialized digestive physiology of herbivorous mammals and carnivorous plants led to the molecular convergence of digestive enzymes Supplementary Fig      |Jan 5, 2023 |Detectar o genotipefenótipo macroevolucionário                                |Fisiologia digestiva especializada de mamíferos herbívoros e plantas carnívoras levou à convergência molecular de enzimas digestivas suplementares fig                                 |https://www.nature.com/articles/s41559-022-01932-7|Nature|\n",
      "|Intratumoral microbiota roles in cancer initiation development |A study of canine breast tumors showed the presence of Bacteroides in the tumor microbiome as well as in the mouth and gut suggesting that the microorganism|Jan 16, 2023|Papéis intratumorais da microbiota no desenvolvimento de iniciação do câncer  |Um estudo de tumores de mama canino mostrou a presença de bacteroides no microbioma tumoral, bem como na boca e intestino, sugerindo que o microorganismo                              |https://www.nature.com/articles/s41392-022-01304-4|Nature|\n",
      "|Musculoskeletal research in human space flight  unmet          |The European Space Agency ESA Science in Space Environment SciSpacE community White Paper Human Physiology  endocrine and digestive systems should be       |Jan 28, 2023|Pesquisa musculoesquelética em voo espacial humano não atendido               |A Agência Européia da Agência Espacial ESA em Space Environment Scispace Community White Paper White Fisiologia                                                                        |https://www.nature.com/articles/s41526-023-00258-3|Nature|\n",
      "|Neurocognitive effects of stress a metaparadigm perspective    | digestive metabolic diseases and mental health eg  Stress and the engagement of multiple memory systems integration of animal and human studies            |Feb 9, 2023 |Efeitos neurocognitivos do estresse Uma perspectiva de metaparadigma          |Doenças metabólicas digestivas e saúde mental, por exemplo, estresse e o envolvimento de vários sistemas de memória integração de estudos animais e humanos                            |https://www.nature.com/articles/s41380-023-01986-4|Nature|\n",
      "|Tooth enamel nitrogen isotope composition records trophic      |Previous research has shown that both abiotic eg aridity altitude and soil chemistry and biotic eg digestive physiology protein intake and water            |Apr 7, 2023 |Registros de composição de isótopos de nitrogênio do esmalte dentário tróficos|Pesquisas anteriores mostraram que tanto a altitude do abiótico quanto a química do solo e a química biótica, por exemplo biótica, ingestão de proteínas de fisiologia digestiva e água|https://www.nature.com/articles/s42003-023-04744-y|Nature|\n",
      "|A dietary perspective of cathuman interactions in two          |Unlike dogs a cats digestive system is not adapted to starchrich foods  Impacts on Nutrition Physiology and Reproduction of Livestock eds El Shaer          |Jul 29, 2023|Uma perspectiva alimentar das interações catumanas em dois                    |Ao contrário dos cães, um sistema digestivo de gatos não é adaptado aos alimentos de Starchrich, impactos na fisiologia nutricional e reprodução de gado eds el shaer                  |https://www.nature.com/articles/s41598-023-39417-7|Nature|\n",
      "|Combination of triheptanoin with the ketogenic diet in Glucose |Seven individuals experienced mild digestive discomfort that resolved without intervention  Department of Physiology The University of Texas Southwestern   |Jun 2, 2023 |Combinação de triheptonoína com a dieta cetogênica em glicose                 |Sete indivíduos sofreram desconforto digestivo leve que resolveu sem intervenção Departamento de Fisiologia da Universidade do Texas, sudoeste                                         |https://www.nature.com/articles/s41598-023-36001-x|Nature|\n",
      "+---------------------------------------------------------------+------------------------------------------------------------------------------------------------------------------------------------------------------------+------------+------------------------------------------------------------------------------+---------------------------------------------------------------------------------------------------------------------------------------------------------------------------------------+--------------------------------------------------+------+\n",
      "\n"
     ]
    }
   ],
   "source": [
    "teste.filter(F.col('source')=='Nature').show(truncate=False)"
   ]
  },
  {
   "cell_type": "code",
   "execution_count": 13,
   "metadata": {},
   "outputs": [],
   "source": [
    "spark.stop()"
   ]
  }
 ],
 "metadata": {
  "kernelspec": {
   "display_name": ".venv",
   "language": "python",
   "name": "python3"
  },
  "language_info": {
   "codemirror_mode": {
    "name": "ipython",
    "version": 3
   },
   "file_extension": ".py",
   "mimetype": "text/x-python",
   "name": "python",
   "nbconvert_exporter": "python",
   "pygments_lexer": "ipython3",
   "version": "3.11.2"
  }
 },
 "nbformat": 4,
 "nbformat_minor": 2
}
