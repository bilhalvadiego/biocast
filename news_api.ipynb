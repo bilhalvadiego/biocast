{
 "cells": [
  {
   "cell_type": "markdown",
   "metadata": {},
   "source": [
    "# DOCS:\n",
    "\n",
    "[DOCS](https://rapidapi.com/rphrp1985/api/newsnow)"
   ]
  },
  {
   "cell_type": "code",
   "execution_count": 1,
   "metadata": {},
   "outputs": [],
   "source": [
    "import os\n",
    "\n",
    "def excluir_arquivos_em_pasta(pasta):\n",
    "    # Verifica se a pasta existe\n",
    "    if os.path.exists(pasta):\n",
    "        # Lista os arquivos na pasta\n",
    "        arquivos = os.listdir(pasta)\n",
    "        \n",
    "        # Itera sobre os arquivos e os exclui\n",
    "        for arquivo in arquivos:\n",
    "            caminho_arquivo = os.path.join(pasta, arquivo)\n",
    "            if os.path.isfile(caminho_arquivo):\n",
    "                os.remove(caminho_arquivo)\n",
    "            else:\n",
    "                print(f\"{caminho_arquivo} não é um arquivo e não será excluído.\")\n",
    "        \n",
    "        print(\"Arquivos excluídos com sucesso.\")\n",
    "    else:\n",
    "        print(f\"A pasta {pasta} não existe.\")"
   ]
  },
  {
   "cell_type": "code",
   "execution_count": 14,
   "metadata": {},
   "outputs": [
    {
     "name": "stdout",
     "output_type": "stream",
     "text": [
      "Arquivos excluídos com sucesso.\n"
     ]
    }
   ],
   "source": [
    "# Substitua 'caminho_para_pasta' pelo caminho da pasta que você deseja verificar e limpar.\n",
    "excluir_arquivos_em_pasta('temp_news')\n",
    "\n",
    "from datetime import datetime, timedelta\n",
    "import requests \n",
    "\n",
    "def getNews(url: str, query: str, page: int = 1, from_date: str = None, to_date: str = None):\n",
    "    # Verifica se from_date e to_date não foram fornecidos e define-os como ontem\n",
    "    if from_date is None: \n",
    "        yesterday = datetime.now() - timedelta(days=1)\n",
    "        from_date = yesterday.strftime('%d/%m/%Y')\n",
    "    \n",
    "    if to_date is None: \n",
    "        yesterday = datetime.now() - timedelta(days=1)\n",
    "        to_date = yesterday.strftime('%d/%m/%Y')\n",
    "    \n",
    "    # Converte as datas de string (dd/MM/yyyy) para objetos datetime\n",
    "    from_date = datetime.strptime(from_date, '%d/%m/%Y')\n",
    "    to_date = datetime.strptime(to_date, '%d/%m/%Y')\n",
    "\n",
    "    # Formate as datas para o formato esperado\n",
    "    from_date_str = from_date.strftime('%d/%m/%Y')\n",
    "    to_date_str = to_date.strftime('%d/%m/%Y')\n",
    "\n",
    "    payload = {\n",
    "        \"query\": query,\n",
    "        \"page\": page,\n",
    "        \"time_bounded\": True,\n",
    "        \"from_date\": from_date_str,\n",
    "        \"to_date\": to_date_str,\n",
    "        \"location\": \"\",\n",
    "        \"category\": \"\",\n",
    "        \"source\": \"\"\n",
    "    }\n",
    "    headers = {\n",
    "        \"content-type\": \"application/json\",\n",
    "        \"X-RapidAPI-Key\": os.getenv(\"RAPIDAPI\"),\n",
    "        \"X-RapidAPI-Host\": \"newsnow.p.rapidapi.com\"\n",
    "    }\n",
    "\n",
    "    response = requests.post(url, json=payload, headers=headers)\n",
    "    bSuccess = True\n",
    "    try:\n",
    "        response = response.json()['news']\n",
    "        # response = response.json()\n",
    "    except:\n",
    "        bSuccess = False\n",
    "        response = response\n",
    "    finally:\n",
    "        return bSuccess, response"
   ]
  },
  {
   "cell_type": "code",
   "execution_count": 15,
   "metadata": {},
   "outputs": [],
   "source": [
    "import json\n",
    "from dotenv import load_dotenv\n",
    "\n",
    "load_dotenv()\n",
    "\n",
    "url = \"https://newsnow.p.rapidapi.com/newsv2\"\n",
    "\n",
    "#Physiology of the digestive tract in dogs\n",
    "query = input(\"Qual o termo que você quer pesquisar?\")\n",
    "\n",
    "bGetNews = True\n",
    "\n",
    "i = 1\n",
    "while bGetNews:\n",
    "    bSuccess, _ = getNews(url = url,query = query, page = i, from_date='01/01/2023', to_date = '09/10/2023')\n",
    "    \n",
    "    if not bSuccess:\n",
    "        print(f\"Erro: {_}\")\n",
    "        bGetNews = False\n",
    "    \n",
    "    if len(_):\n",
    "        jsonData = json.dumps(_)\n",
    "        with open(f'temp_news/newsnow_{str(i)}.json', 'w') as f:\n",
    "            f.write(jsonData)\n",
    "    else:\n",
    "        bGetNews = False\n",
    "    i += 1"
   ]
  },
  {
   "cell_type": "code",
   "execution_count": 16,
   "metadata": {},
   "outputs": [
    {
     "name": "stderr",
     "output_type": "stream",
     "text": [
      "23/10/27 16:48:13 WARN Utils: Your hostname, billy-virus resolves to a loopback address: 127.0.1.1; using 192.168.1.21 instead (on interface wlp0s20f3)\n",
      "23/10/27 16:48:13 WARN Utils: Set SPARK_LOCAL_IP if you need to bind to another address\n",
      "Setting default log level to \"WARN\".\n",
      "To adjust logging level use sc.setLogLevel(newLevel). For SparkR, use setLogLevel(newLevel).\n",
      "23/10/27 16:48:14 WARN NativeCodeLoader: Unable to load native-hadoop library for your platform... using builtin-java classes where applicable\n"
     ]
    }
   ],
   "source": [
    "import findspark\n",
    "findspark.init()\n",
    "\n",
    "from pyspark.sql import SparkSession\n",
    "from pyspark.sql import functions as F\n",
    "from pyspark.sql import Window as W\n",
    "\n",
    "from pyspark.sql.types import StructType, StructField, StringType, IntegerType\n",
    "# Configurando a sessão Spark\n",
    "spark = SparkSession.builder.appName(\"biocast\").getOrCreate()"
   ]
  },
  {
   "cell_type": "code",
   "execution_count": 17,
   "metadata": {},
   "outputs": [
    {
     "data": {
      "text/plain": [
       "DataFrame[body: string, date: string, image: string, source: string, title: string, url: string]"
      ]
     },
     "execution_count": 17,
     "metadata": {},
     "output_type": "execute_result"
    }
   ],
   "source": [
    "newsnow = spark.read.option(\"multiline\",\"true\").json(\"temp_news/*\")\n",
    "newsnow = (\n",
    "    newsnow\n",
    ")\n",
    "newsnow.cache()\n",
    "newsnow.repartition(1)"
   ]
  },
  {
   "cell_type": "code",
   "execution_count": 18,
   "metadata": {},
   "outputs": [
    {
     "name": "stderr",
     "output_type": "stream",
     "text": [
      "23/10/27 16:48:25 WARN CacheManager: Asked to cache already cached data.\n"
     ]
    },
    {
     "data": {
      "text/plain": [
       "DataFrame[body: string, date: string, image: string, source: string, title: string, url: string]"
      ]
     },
     "execution_count": 18,
     "metadata": {},
     "output_type": "execute_result"
    }
   ],
   "source": [
    "from translate import Translator\n",
    "from googletrans import Translator as Tgoogle\n",
    "import re\n",
    "\n",
    "# Função para remover caracteres não alfanuméricos\n",
    "def remove_non_alphanumeric(text):\n",
    "    return re.sub(r'[^a-zA-Z0-9\\s]', '', text)\n",
    "\n",
    "# Registrar a função UDF\n",
    "remove_non_alphanumeric_udf = F.udf(remove_non_alphanumeric, StringType())\n",
    "\n",
    "# Função para traduzir uma coluna\n",
    "def translate_column_translate(text, target_lang='pt-br'):\n",
    "    translator = Translator(key=os.getenv('MYMEMORYKEY'), to_lang=target_lang)\n",
    "    return translator.translate(text)\n",
    "\n",
    "# Função para traduzir uma coluna\n",
    "def translate_column_google(text, source_lang='en', target_lang='pt_br'):\n",
    "    try:\n",
    "        if text is not None:\n",
    "            translator = Tgoogle()\n",
    "            translated = translator.translate(text, src=source_lang, dest=target_lang)\n",
    "            return translated.text\n",
    "    except Exception as e:\n",
    "        print(f\"Erro na tradução: {e}\")\n",
    "    return text\n",
    "\n",
    "# Registrar a função UDF\n",
    "translate_udf_google = F.udf(translate_column_google, StringType())\n",
    "\n",
    "# Registrar a função UDF\n",
    "translate_udf_translate = F.udf(translate_column_translate, StringType())\n",
    "\n",
    "# Use a função para traduzir as colunas desejadas\n",
    "newsnow_translate = (\n",
    "    newsnow\n",
    "    # .withColumn(\"body\", remove_non_alphanumeric_udf(F.col(\"body\")))\n",
    "    # .withColumn(\"title\", remove_non_alphanumeric_udf(F.col(\"title\")))\n",
    "    # .withColumn(\"title-pt_br-translate\", F.lit(translate_udf_translate(F.col(\"title\"))))\n",
    "    # .withColumn(\"title-pt_br-google\", F.lit(translate_udf_google(F.col(\"title\"))))\n",
    "    # .withColumn('title-pt_br', F.when(F.col('title')==F.col('title-pt_br-google'), F.col('title-pt_br-translate')).otherwise(F.col('title-pt_br-google')))\n",
    "    # .withColumn(\"body-pt_br-translate\", F.lit(translate_udf_translate(F.col(\"body\"))))\n",
    "    # .withColumn(\"body-pt_br-google\", F.lit(translate_udf_google(F.col(\"body\"))))\n",
    "    # .withColumn('body-pt_br', F.when(F.col('body')==F.col('body-pt_br-google'), F.col('body-pt_br-translate')).otherwise(F.col('body-pt_br-google')))\n",
    "    # .select(\n",
    "    #     F.col('source')\n",
    "    #     ,F.col('title')\n",
    "    #     ,F.col('body')\n",
    "    #     ,F.col('date')\n",
    "    #     ,F.col('title-pt_br')\n",
    "    #     ,F.col('body-pt_br')\n",
    "    #     ,F.col('url')\n",
    "    # )\n",
    ")\n",
    "\n",
    "# Exiba o DataFrame resultante\n",
    "newsnow_translate.cache()"
   ]
  },
  {
   "cell_type": "code",
   "execution_count": 19,
   "metadata": {},
   "outputs": [
    {
     "name": "stderr",
     "output_type": "stream",
     "text": [
      "                                                                                \r"
     ]
    }
   ],
   "source": [
    "newsnow_translate.write.option('encoding', 'utf-8').partitionBy('source').mode('overwrite').parquet('./parquet_news')"
   ]
  },
  {
   "cell_type": "code",
   "execution_count": 20,
   "metadata": {},
   "outputs": [
    {
     "name": "stdout",
     "output_type": "stream",
     "text": [
      "+--------------------+------------+--------------------+--------------------+--------------------+--------------------+\n",
      "|                body|        date|               image|               title|                 url|              source|\n",
      "+--------------------+------------+--------------------+--------------------+--------------------+--------------------+\n",
      "|... acoustic tech...| May 9, 2023|https://audiospac...|Revolutionizing t...|https://interesti...|Interesting Engin...|\n",
      "|... propagation. ...| May 5, 2023|https://audiospac...|Broadband subwave...|https://www.natur...|              Nature|\n",
      "|... propagation, ...| May 4, 2023|https://audiospac...|Intensity correla...|https://www.natur...|              Nature|\n",
      "|... propagation i...|May 31, 2023|https://audiospac...|Probing and harne...|https://www.scien...|             Science|\n",
      "|... acoustic sens...| May 3, 2023|https://audiospac...|A neural network ...|https://www.natur...|              Nature|\n",
      "|/Physical science...| May 3, 2023|https://audiospac...|New high-speed, t...|https://www.eurek...|         EurekAlert!|\n",
      "|2: Numerical simu...|May 25, 2023|https://audiospac...|Transverse oscill...|https://www.natur...|              Nature|\n",
      "|Acoustic & Vibrat...|May 23, 2023|https://audiospac...|Element aiming to...|https://www.aeros...|Aerospace Testing...|\n",
      "|Feed particles ar...|May 22, 2023|https://audiospac...|Model and simulat...|https://www.natur...|              Nature|\n",
      "|The propagation s...|May 22, 2023|https://audiospac...|Generation of equ...|https://www.natur...|              Nature|\n",
      "|Acoustics is a so...|May 15, 2023|https://audiospac...|What Graphene Cou...|https://www.azona...|         AZoNano.com|\n",
      "|Using these chara...|May 15, 2023|https://audiospac...|Experimental stud...|https://pubs.aip....|      AIP Publishing|\n",
      "|The AOD has high ...|May 15, 2023|https://audiospac...|High-Speed Two-Ph...|https://www.photo...|       Photonics.com|\n",
      "|Contactless defor...|May 12, 2023|https://audiospac...|Time domain self-...|https://www.natur...|              Nature|\n",
      "|... propagation, ...|May 12, 2023|https://audiospac...|Tractor beams: Ho...|https://interesti...|Interesting Engin...|\n",
      "|Acoustic studies ...|May 11, 2023|https://audiospac...|Eavesdropping on ...|https://scitechda...|        SciTechDaily|\n",
      "|Studies indicate ...|May 10, 2023|https://audiospac...|Listening to the ...|https://www.earth...|           Earth.com|\n",
      "|... acoustic emis...| Mar 8, 2023|https://audiospac...|Creep behavior an...|https://www.natur...|              Nature|\n",
      "|The wave propagat...| Mar 8, 2023|https://audiospac...|Insight into pres...|https://www.natur...|              Nature|\n",
      "|Generating shear ...| Mar 8, 2023|https://audiospac...|Noninvasive measu...|https://www.scien...|             Science|\n",
      "+--------------------+------------+--------------------+--------------------+--------------------+--------------------+\n",
      "only showing top 20 rows\n",
      "\n"
     ]
    }
   ],
   "source": [
    "teste = spark.read.parquet('parquet_news')\n",
    "teste.sort(F.col('date').desc()).show()"
   ]
  },
  {
   "cell_type": "code",
   "execution_count": 21,
   "metadata": {},
   "outputs": [
    {
     "name": "stdout",
     "output_type": "stream",
     "text": [
      "+-------------------------------------------------------------------------------------------------------------------------------------------------------------------------+------------+-------------------------------------------------------------------------------------------+--------------------------------------------------------------------+--------------------------------------------------+------+\n",
      "|body                                                                                                                                                                     |date        |image                                                                                      |title                                                               |url                                               |source|\n",
      "+-------------------------------------------------------------------------------------------------------------------------------------------------------------------------+------------+-------------------------------------------------------------------------------------------+--------------------------------------------------------------------+--------------------------------------------------+------+\n",
      "|Optimizer and training algorithm for back propagation ... A study on using scanning acoustic microscopy and neural network techniques to evaluate the quality of...      |Feb 21, 2023|https://audiospace-1-u9912847.deta.app/getnewspic?id=wFeqSD0mDA4x6QZ1MdWY1698436061.9540753|Quality prediction and classification of resistance spot weld ...   |https://www.nature.com/articles/s41598-023-29906-0|Nature|\n",
      "|The acoustic-optic modulator (AOM) used in this experiment has a centre frequency of 27 MHz. d, The laser beat frequency with a fibre laser during the ring...           |Aug 2, 2023 |https://audiospace-1-u9912847.deta.app/getnewspic?id=gAyAOHDWvdzSgW6kbIEI1698436062.0006304|3D integration enables ultralow-noise isolator-free lasers in ...   |https://www.nature.com/articles/s41586-023-06251-w|Nature|\n",
      "|... acoustic emission (AE) energy rate. The above outstanding achievements have ... In general, the creep behavior and damage propagation of the damaged specimens are...|Mar 8, 2023 |https://audiospace-1-u9912847.deta.app/getnewspic?id=Gax18KUilmL9Xi8WkW5B1698436062.049906 |Creep behavior and long-term strength characteristics of pre ...    |https://www.nature.com/articles/s41598-023-31028-6|Nature|\n",
      "|Propagation and reflection of thermoelastic wave in a rotating nonlocal fractional ... Firstly, the acoustic impedance of water is much greater than that of air.        |Mar 22, 2023|https://audiospace-1-u9912847.deta.app/getnewspic?id=ribv3X8ulLqqTHg6tdZd1698436062.3921423|Experiments and simulation of block motion in underwater ...        |https://www.nature.com/articles/s41598-023-31656-y|Nature|\n",
      "|The strength characteristics, instability failure characteristics, and acoustic ... In the plastic stage, which can also be called the unstable crack propagation...     |Jan 11, 2023|https://audiospace-1-u9912847.deta.app/getnewspic?id=1CfpPnyLF60obSgRJ8JH1698436062.4375455|Evolution of the strength characteristics of briquette and raw ...  |https://www.nature.com/articles/s41598-023-27908-6|Nature|\n",
      "|Propagation and reflection of thermoelastic wave in a rotating nonlocal fractional ... Firstly, the acoustic impedance of water is much greater than that of air.        |Mar 22, 2023|https://audiospace-1-u9912847.deta.app/getnewspic?id=xSNRRIwyf81aQ8XaBehn1698436060.7451458|Experiments and simulation of block motion in underwater ...        |https://www.nature.com/articles/s41598-023-31656-y|Nature|\n",
      "|The strength characteristics, instability failure characteristics, and acoustic ... In the plastic stage, which can also be called the unstable crack propagation...     |Jan 11, 2023|https://audiospace-1-u9912847.deta.app/getnewspic?id=l2VvWb1jDiUYmPHv9TgM1698436060.9563906|Evolution of the strength characteristics of briquette and raw ...  |https://www.nature.com/articles/s41598-023-27908-6|Nature|\n",
      "|The coefficients of the hidden layer of the neural network are adjusted by the backward propagation algorithm to complete the model training. In the...                  |Jun 2, 2023 |https://audiospace-1-u9912847.deta.app/getnewspic?id=yDzyd006HSRMeYstYwBU1698436061.0729482|Reliability prediction and evaluation of communication base ...     |https://www.nature.com/articles/s41598-023-35841-x|Nature|\n",
      "|pointed out that in stacked multi-layer GCN, propagation operations and transformation operations are performed by each layer graph convolution. Previous...             |3 weeks ago |https://audiospace-1-u9912847.deta.app/getnewspic?id=rot3BLvM0ZyYkPinTk531698436061.2750583|Co-embedding of edges and nodes with deep graph ...                 |https://www.nature.com/articles/s41598-023-44224-1|Nature|\n",
      "|... acoustic impedance Z and the relative acoustic impedance mismatch η are introduced as Eq. ... A spring model for the simulation of the propagation of ultrasonic...  |1 month ago |https://audiospace-1-u9912847.deta.app/getnewspic?id=0Ge172NirVKrAK4KqoOL1698436054.1679623|Non-destructive testing of interfacial stiffness based on spring ...|https://www.nature.com/articles/s41598-023-42887-4|Nature|\n",
      "|Feed particles are subjected to high impact of moving grinding elements, but also to heat, electric, magnetic and acoustic stresses, which further help to...            |May 22, 2023|https://audiospace-1-u9912847.deta.app/getnewspic?id=waPsAKq0CiIP83EsyG8U1698436054.8406224|Model and simulator of inlet air flow in grinding installation ...  |https://www.nature.com/articles/s41598-023-34664-0|Nature|\n",
      "|Contactless deformation of fluid interfaces by acoustic radiation pressure. Article ... The propagation and the shape of the ice/water interface depend on the...        |May 12, 2023|https://audiospace-1-u9912847.deta.app/getnewspic?id=fvSqWFINyKDISxRiqwrJ1698436054.968588 |Time domain self-bending photonic hook beam based on ...            |https://www.nature.com/articles/s41598-023-34946-7|Nature|\n",
      "|Similarly, as in (a) immediately after ligation, an obstruction in pulse propagation can be observed. ... Acoustic radiation force impulse (ARFI) imaging: A...          |Apr 18, 2023|https://audiospace-1-u9912847.deta.app/getnewspic?id=9ltPdg0pcTitmA6jqjGd1698436055.157315 |Pulse wave and vector flow Imaging for atherosclerotic ...          |https://www.nature.com/articles/s41598-023-32358-1|Nature|\n",
      "|From 0 to , streamers appear at the anode of the electrode and propagate to the cathode under the function of the applied electric field. This period during...          |Jan 2, 2023 |https://audiospace-1-u9912847.deta.app/getnewspic?id=dFY5soGcvsL8RhMCWtcP1698435986.7289886|The time-frequency analysis of the acoustic signal produced in ...  |https://www.nature.com/articles/s41598-022-27359-5|Nature|\n",
      "|It is unknown if the propagation loss increased or decreased when the acoustic predation occurred. However, in some populations there can be a drop during...            |Aug 24, 2023|https://audiospace-1-u9912847.deta.app/getnewspic?id=aY2HgY9Ng7ZzhWaayh4k1698435987.050341 |Acoustic predation in a sailfish-flying fish cloak | Scientific ... |https://www.nature.com/articles/s41598-023-40986-w|Nature|\n",
      "|At these frequencies the wavelength of longitudinal waves in aluminum is on the order of 10 cm making propagation along the rod-like waveguides nearly one...            |Jan 12, 2023|https://audiospace-1-u9912847.deta.app/getnewspic?id=cbpkYazj1aGGzPpbMuFc1698435987.167663 |Realizing acoustic qubit analogues with nonlinearly tunable ...     |https://www.nature.com/articles/s41598-023-27427-4|Nature|\n",
      "|The most notable characteristic of these structures is the phononic bandgap (PBG), a region in which elastic/acoustic waves cannot propagate. PnCs with a...             |Jul 29, 2023|https://audiospace-1-u9912847.deta.app/getnewspic?id=rzqV3Z5MZLAIF1X6IXfQ1698435987.2727938|Monitoring and simulation of the fuel irradiation behavior in ...   |https://www.nature.com/articles/s41598-023-39298-w|Nature|\n",
      "|... propagation of acoustic or elastic waves. PnCs with phononic band gap properties prevent the propagation of elastic waves in a specific frequency range.             |Apr 29, 2023|https://audiospace-1-u9912847.deta.app/getnewspic?id=nB0ZkBrCmpYZtjE9E4RH1698435979.3081656|High-performance phononic crystal sensing structure for ...         |https://www.nature.com/articles/s41598-023-34226-4|Nature|\n",
      "|... propagation of anisotropic phonons2,3,4,5,6,7. The technology of SAM holds significant importance in the fiercely competitive and demanding markets of...            |Aug 14, 2023|https://audiospace-1-u9912847.deta.app/getnewspic?id=6ldxA3YnUy3jcIaCVN531698435979.348677 |Image denoising in acoustic microscopy using block-matching ...     |https://www.nature.com/articles/s41598-023-40301-7|Nature|\n",
      "|Here, we propose a method of precise manipulation of skyrmions based on surface acoustic waves (SAWs) propagating in two dimensions. ... propagation of the...           |Feb 2, 2023 |https://audiospace-1-u9912847.deta.app/getnewspic?id=6tMBCIWYcv1wgCNR2rUF1698435979.3995676|Trapping and manipulating skyrmions in two-dimensional ...          |https://www.nature.com/articles/s41598-023-29022-z|Nature|\n",
      "+-------------------------------------------------------------------------------------------------------------------------------------------------------------------------+------------+-------------------------------------------------------------------------------------------+--------------------------------------------------------------------+--------------------------------------------------+------+\n",
      "only showing top 20 rows\n",
      "\n"
     ]
    }
   ],
   "source": [
    "teste.filter(F.col('source')=='Nature').show(truncate=False)"
   ]
  },
  {
   "cell_type": "code",
   "execution_count": 22,
   "metadata": {},
   "outputs": [
    {
     "name": "stdout",
     "output_type": "stream",
     "text": [
      "+--------------------------------------------------+\n",
      "|url                                               |\n",
      "+--------------------------------------------------+\n",
      "|https://www.nature.com/articles/s41598-023-29906-0|\n",
      "|https://www.nature.com/articles/s41586-023-06251-w|\n",
      "|https://www.nature.com/articles/s41598-023-31028-6|\n",
      "|https://www.nature.com/articles/s41598-023-31656-y|\n",
      "|https://www.nature.com/articles/s41598-023-27908-6|\n",
      "|https://www.nature.com/articles/s41598-023-31656-y|\n",
      "|https://www.nature.com/articles/s41598-023-27908-6|\n",
      "|https://www.nature.com/articles/s41598-023-35841-x|\n",
      "|https://www.nature.com/articles/s41598-023-44224-1|\n",
      "|https://www.nature.com/articles/s41598-023-42887-4|\n",
      "|https://www.nature.com/articles/s41598-023-34664-0|\n",
      "|https://www.nature.com/articles/s41598-023-34946-7|\n",
      "|https://www.nature.com/articles/s41598-023-32358-1|\n",
      "|https://www.nature.com/articles/s41598-022-27359-5|\n",
      "|https://www.nature.com/articles/s41598-023-40986-w|\n",
      "|https://www.nature.com/articles/s41598-023-27427-4|\n",
      "|https://www.nature.com/articles/s41598-023-39298-w|\n",
      "|https://www.nature.com/articles/s41598-023-34226-4|\n",
      "|https://www.nature.com/articles/s41598-023-40301-7|\n",
      "|https://www.nature.com/articles/s41598-023-29022-z|\n",
      "+--------------------------------------------------+\n",
      "only showing top 20 rows\n",
      "\n"
     ]
    }
   ],
   "source": [
    "teste.select('url').show(truncate=False)"
   ]
  },
  {
   "cell_type": "code",
   "execution_count": 5,
   "metadata": {},
   "outputs": [
    {
     "ename": "NameError",
     "evalue": "name 'spark' is not defined",
     "output_type": "error",
     "traceback": [
      "\u001b[0;31m---------------------------------------------------------------------------\u001b[0m",
      "\u001b[0;31mNameError\u001b[0m                                 Traceback (most recent call last)",
      "\u001b[1;32m/home/bilhalvadiego/Documents/repo/biocast/news_api.ipynb Cell 12\u001b[0m line \u001b[0;36m1\n\u001b[0;32m----> <a href='vscode-notebook-cell:/home/bilhalvadiego/Documents/repo/biocast/news_api.ipynb#X20sZmlsZQ%3D%3D?line=0'>1</a>\u001b[0m spark\u001b[39m.\u001b[39mstop()\n",
      "\u001b[0;31mNameError\u001b[0m: name 'spark' is not defined"
     ]
    }
   ],
   "source": [
    "spark.stop()"
   ]
  },
  {
   "cell_type": "code",
   "execution_count": null,
   "metadata": {},
   "outputs": [],
   "source": []
  }
 ],
 "metadata": {
  "kernelspec": {
   "display_name": ".venv",
   "language": "python",
   "name": "python3"
  },
  "language_info": {
   "codemirror_mode": {
    "name": "ipython",
    "version": 3
   },
   "file_extension": ".py",
   "mimetype": "text/x-python",
   "name": "python",
   "nbconvert_exporter": "python",
   "pygments_lexer": "ipython3",
   "version": "3.11.2"
  }
 },
 "nbformat": 4,
 "nbformat_minor": 2
}
